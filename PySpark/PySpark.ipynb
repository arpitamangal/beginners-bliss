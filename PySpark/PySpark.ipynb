{
  "cells": [
    {
      "cell_type": "code",
      "execution_count": null,
      "metadata": {
        "id": "093JMiWOuKTX"
      },
      "outputs": [],
      "source": [
        "# Run below commands\n",
        "!apt-get install openjdk-8-jdk-headless -qq > /dev/null\n",
        "!wget -q https://archive.apache.org/dist/spark/spark-3.1.2/spark-3.1.2-bin-hadoop3.2.tgz\n",
        "!tar xf spark-3.1.2-bin-hadoop3.2.tgz\n",
        "!pip install -q findspark"
      ]
    },
    {
      "cell_type": "code",
      "execution_count": null,
      "metadata": {
        "id": "LHFI2PWDuNx-"
      },
      "outputs": [],
      "source": [
        "import os\n",
        "os.environ[\"JAVA_HOME\"] = \"/usr/lib/jvm/java-8-openjdk-amd64\"\n",
        "os.environ[\"SPARK_HOME\"] = \"/content/spark-3.1.2-bin-hadoop3.2\""
      ]
    },
    {
      "cell_type": "code",
      "execution_count": null,
      "metadata": {
        "id": "KtfLZdT3uN0-"
      },
      "outputs": [],
      "source": [
        "import findspark\n",
        "findspark.init()\n",
        "from pyspark.sql import SparkSession\n",
        "from pyspark import SparkConf, SparkContext\n",
        "from datetime import datetime, date, timedelta\n",
        "from dateutil import relativedelta\n",
        "from pyspark.sql import SQLContext, Row\n",
        "from pyspark.sql.types import *\n",
        "from pyspark.sql.functions import *\n",
        "from pyspark.sql import DataFrame\n",
        "from pyspark.sql.functions import *\n",
        "from pyspark.sql.functions import to_timestamp, to_date\n",
        "from pyspark.sql import functions as F\n",
        "from pyspark.sql.functions import collect_list, collect_set, concat, first, array_distinct, col, size, expr\n",
        "from pyspark.sql.functions import array, col, explode, lit, struct\n",
        "from typing import Iterable\n",
        "from pyspark.sql.functions import desc\n",
        "from pyspark.sql.functions import max\n",
        "from pyspark.sql.functions import col\n",
        "from pyspark.sql.types import FloatType\n",
        "from pyspark.sql.functions import year\n",
        "\n",
        "import random\n",
        "import pandas as pd"
      ]
    },
    {
      "cell_type": "markdown",
      "source": [
        "# Getting Started with Spark\n",
        "\n"
      ],
      "metadata": {
        "id": "8Fc1gR634teP"
      }
    },
    {
      "cell_type": "code",
      "source": [
        "from google.colab import drive\n",
        "drive.mount('/content/drive')"
      ],
      "metadata": {
        "colab": {
          "base_uri": "https://localhost:8080/"
        },
        "id": "oyiYWNY_6nSI",
        "outputId": "97ad7b3d-83e7-4a23-f31e-ced8683dd3ac"
      },
      "execution_count": null,
      "outputs": [
        {
          "output_type": "stream",
          "name": "stdout",
          "text": [
            "Mounted at /content/drive\n"
          ]
        }
      ]
    },
    {
      "cell_type": "code",
      "source": [
        "spark = SparkSession\\\n",
        "        .builder\\\n",
        "        .getOrCreate()"
      ],
      "metadata": {
        "id": "Luwsl9tBqTrq"
      },
      "execution_count": null,
      "outputs": []
    },
    {
      "cell_type": "code",
      "source": [
        "flightData2015 = spark\\\n",
        "    .read\\\n",
        "    .option(\"inferSchema\", \"true\")\\\n",
        "    .option(\"header\", \"true\")\\\n",
        "    .csv(\"/content/drive/Shareddrives/BigData/flight-data/csv/2015-summary.csv\")"
      ],
      "metadata": {
        "id": "2zjrFPBKV2zw"
      },
      "execution_count": null,
      "outputs": []
    },
    {
      "cell_type": "code",
      "source": [
        "flightData2015.take(3)"
      ],
      "metadata": {
        "colab": {
          "base_uri": "https://localhost:8080/"
        },
        "id": "WMf5da3rtyms",
        "outputId": "1d9141b9-cd6b-47d5-cf0a-a24a735e7b9e"
      },
      "execution_count": null,
      "outputs": [
        {
          "output_type": "execute_result",
          "data": {
            "text/plain": [
              "[Row(DEST_COUNTRY_NAME='United States', ORIGIN_COUNTRY_NAME='Romania', count=15),\n",
              " Row(DEST_COUNTRY_NAME='United States', ORIGIN_COUNTRY_NAME='Croatia', count=1),\n",
              " Row(DEST_COUNTRY_NAME='United States', ORIGIN_COUNTRY_NAME='Ireland', count=344)]"
            ]
          },
          "metadata": {},
          "execution_count": 13
        }
      ]
    },
    {
      "cell_type": "code",
      "source": [
        "flightData2015.sort(\"count\").explain()"
      ],
      "metadata": {
        "colab": {
          "base_uri": "https://localhost:8080/"
        },
        "id": "-0UovNsMt2QJ",
        "outputId": "d8e75f46-81ec-40ad-ce29-93421fcea922"
      },
      "execution_count": null,
      "outputs": [
        {
          "output_type": "stream",
          "name": "stdout",
          "text": [
            "== Physical Plan ==\n",
            "*(1) Sort [count#18 ASC NULLS FIRST], true, 0\n",
            "+- Exchange rangepartitioning(count#18 ASC NULLS FIRST, 200), ENSURE_REQUIREMENTS, [id=#32]\n",
            "   +- FileScan csv [DEST_COUNTRY_NAME#16,ORIGIN_COUNTRY_NAME#17,count#18] Batched: false, DataFilters: [], Format: CSV, Location: InMemoryFileIndex[file:/content/drive/Shareddrives/BigData/flight-data/csv/2015-summary.csv], PartitionFilters: [], PushedFilters: [], ReadSchema: struct<DEST_COUNTRY_NAME:string,ORIGIN_COUNTRY_NAME:string,count:int>\n",
            "\n",
            "\n"
          ]
        }
      ]
    },
    {
      "cell_type": "code",
      "source": [
        "#By default, when we perform a shuffle, Spark outputs 200 shuffle partitions. Let’s set this value to 5 to reduce the number of the output partitions from the shuffle:\n",
        "spark.conf.set(\"spark.sql.shuffle.partitions\", \"5\")"
      ],
      "metadata": {
        "id": "NRvlduyVuPrj"
      },
      "execution_count": null,
      "outputs": []
    },
    {
      "cell_type": "code",
      "source": [
        "flightData2015.sort(\"count\").take(2)"
      ],
      "metadata": {
        "colab": {
          "base_uri": "https://localhost:8080/"
        },
        "id": "OSrLkUrhuQmr",
        "outputId": "e72914c6-12a6-487d-f00e-52e067fabf86"
      },
      "execution_count": null,
      "outputs": [
        {
          "output_type": "execute_result",
          "data": {
            "text/plain": [
              "[Row(DEST_COUNTRY_NAME='United States', ORIGIN_COUNTRY_NAME='Singapore', count=1),\n",
              " Row(DEST_COUNTRY_NAME='Moldova', ORIGIN_COUNTRY_NAME='United States', count=1)]"
            ]
          },
          "metadata": {},
          "execution_count": 16
        }
      ]
    },
    {
      "cell_type": "code",
      "source": [
        "#make any DataFrame into a table or view\n",
        "flightData2015.createOrReplaceTempView(\"flight_data_2015\")"
      ],
      "metadata": {
        "id": "0YlqRPVCuS8l"
      },
      "execution_count": null,
      "outputs": []
    },
    {
      "cell_type": "code",
      "source": [
        "#spark.sql function that conveniently returns a new DataFrame.\n",
        "#a SQL query against a DataFrame returns another DataFrame—it’s actually quite powerful\n",
        "sqlWay = spark.sql(\"\"\"\n",
        "  SELECT DEST_COUNTRY_NAME, count(1)\n",
        "  FROM flight_data_2015\n",
        "  GROUP BY DEST_COUNTRY_NAME\n",
        "  \"\"\")"
      ],
      "metadata": {
        "id": "HQx2a58puXEV"
      },
      "execution_count": null,
      "outputs": []
    },
    {
      "cell_type": "code",
      "source": [
        "dataFrameWay = flightData2015\\\n",
        "    .groupBy(\"DEST_COUNTRY_NAME\")\\\n",
        "    .count()\n"
      ],
      "metadata": {
        "id": "HaCgW492u8e6"
      },
      "execution_count": null,
      "outputs": []
    },
    {
      "cell_type": "code",
      "source": [
        "sqlWay.explain()"
      ],
      "metadata": {
        "colab": {
          "base_uri": "https://localhost:8080/"
        },
        "id": "m2zMidLFu_Bf",
        "outputId": "976e9180-0585-4600-ba6a-1ff9ea296ed2"
      },
      "execution_count": null,
      "outputs": [
        {
          "output_type": "stream",
          "name": "stdout",
          "text": [
            "== Physical Plan ==\n",
            "*(2) HashAggregate(keys=[DEST_COUNTRY_NAME#16], functions=[count(1)])\n",
            "+- Exchange hashpartitioning(DEST_COUNTRY_NAME#16, 5), ENSURE_REQUIREMENTS, [id=#61]\n",
            "   +- *(1) HashAggregate(keys=[DEST_COUNTRY_NAME#16], functions=[partial_count(1)])\n",
            "      +- FileScan csv [DEST_COUNTRY_NAME#16] Batched: false, DataFilters: [], Format: CSV, Location: InMemoryFileIndex[file:/content/drive/Shareddrives/BigData/flight-data/csv/2015-summary.csv], PartitionFilters: [], PushedFilters: [], ReadSchema: struct<DEST_COUNTRY_NAME:string>\n",
            "\n",
            "\n"
          ]
        }
      ]
    },
    {
      "cell_type": "code",
      "source": [
        "dataFrameWay.explain()"
      ],
      "metadata": {
        "colab": {
          "base_uri": "https://localhost:8080/"
        },
        "id": "nBUPRVy6vA50",
        "outputId": "5d337708-c9c8-4d48-ea1a-b272115e1edd"
      },
      "execution_count": null,
      "outputs": [
        {
          "output_type": "stream",
          "name": "stdout",
          "text": [
            "== Physical Plan ==\n",
            "*(2) HashAggregate(keys=[DEST_COUNTRY_NAME#16], functions=[count(1)])\n",
            "+- Exchange hashpartitioning(DEST_COUNTRY_NAME#16, 5), ENSURE_REQUIREMENTS, [id=#80]\n",
            "   +- *(1) HashAggregate(keys=[DEST_COUNTRY_NAME#16], functions=[partial_count(1)])\n",
            "      +- FileScan csv [DEST_COUNTRY_NAME#16] Batched: false, DataFilters: [], Format: CSV, Location: InMemoryFileIndex[file:/content/drive/Shareddrives/BigData/flight-data/csv/2015-summary.csv], PartitionFilters: [], PushedFilters: [], ReadSchema: struct<DEST_COUNTRY_NAME:string>\n",
            "\n",
            "\n"
          ]
        }
      ]
    },
    {
      "cell_type": "markdown",
      "source": [
        "maximum number of flights to and from any given location"
      ],
      "metadata": {
        "id": "sx2GZ9lm46aW"
      }
    },
    {
      "cell_type": "code",
      "source": [
        " spark.sql(\"SELECT max(count) from flight_data_2015\").take(1)"
      ],
      "metadata": {
        "colab": {
          "base_uri": "https://localhost:8080/"
        },
        "id": "NfuJAQ11v1gh",
        "outputId": "60461d36-2d4d-4d1a-9025-985ce54d175f"
      },
      "execution_count": null,
      "outputs": [
        {
          "output_type": "execute_result",
          "data": {
            "text/plain": [
              "[Row(max(count)=370002)]"
            ]
          },
          "metadata": {},
          "execution_count": 22
        }
      ]
    },
    {
      "cell_type": "code",
      "source": [],
      "metadata": {
        "id": "bymE_BCsv20w"
      },
      "execution_count": null,
      "outputs": []
    },
    {
      "cell_type": "code",
      "source": [
        "flightData2015.select(max(\"count\")).take(1)"
      ],
      "metadata": {
        "colab": {
          "base_uri": "https://localhost:8080/"
        },
        "id": "eJbIUNWzv53Z",
        "outputId": "c5ada01d-819b-46d5-a78c-125e13b0ca16"
      },
      "execution_count": null,
      "outputs": [
        {
          "output_type": "execute_result",
          "data": {
            "text/plain": [
              "[Row(max(count)=370002)]"
            ]
          },
          "metadata": {},
          "execution_count": 24
        }
      ]
    },
    {
      "cell_type": "markdown",
      "source": [
        "top five destination countries in the data"
      ],
      "metadata": {
        "id": "7qE4Nr3P5AOg"
      }
    },
    {
      "cell_type": "code",
      "source": [
        "maxSql = spark.sql(\"\"\"\n",
        "  SELECT DEST_COUNTRY_NAME, sum(count) as destination_total\n",
        "  FROM flight_data_2015\n",
        "  GROUP BY DEST_COUNTRY_NAME\n",
        "  ORDER BY sum(count) DESC\n",
        "  LIMIT 5\n",
        "  \"\"\")"
      ],
      "metadata": {
        "id": "6kGOjGmbv776"
      },
      "execution_count": null,
      "outputs": []
    },
    {
      "cell_type": "code",
      "source": [
        "maxSql.show()"
      ],
      "metadata": {
        "colab": {
          "base_uri": "https://localhost:8080/"
        },
        "id": "ELhmeBcvv-b8",
        "outputId": "9299b208-66de-4454-9790-72f9c53978b5"
      },
      "execution_count": null,
      "outputs": [
        {
          "output_type": "stream",
          "name": "stdout",
          "text": [
            "+-----------------+-----------------+\n",
            "|DEST_COUNTRY_NAME|destination_total|\n",
            "+-----------------+-----------------+\n",
            "|    United States|           411352|\n",
            "|           Canada|             8399|\n",
            "|           Mexico|             7140|\n",
            "|   United Kingdom|             2025|\n",
            "|            Japan|             1548|\n",
            "+-----------------+-----------------+\n",
            "\n"
          ]
        }
      ]
    },
    {
      "cell_type": "code",
      "source": [],
      "metadata": {
        "id": "k9duIAH_wCCY"
      },
      "execution_count": null,
      "outputs": []
    },
    {
      "cell_type": "code",
      "source": [
        " flightData2015\\\n",
        "    .groupBy(\"DEST_COUNTRY_NAME\")\\\n",
        "    .sum(\"count\")\\\n",
        "    .withColumnRenamed(\"sum(count)\", \"destination_total\")\\\n",
        "    .sort(desc(\"destination_total\"))\\\n",
        "    .limit(5)\\\n",
        "    .show()"
      ],
      "metadata": {
        "colab": {
          "base_uri": "https://localhost:8080/"
        },
        "id": "zz4OQHmpwGvP",
        "outputId": "1994e5c6-5de3-48ce-d385-b46a053e25af"
      },
      "execution_count": null,
      "outputs": [
        {
          "output_type": "stream",
          "name": "stdout",
          "text": [
            "+-----------------+-----------------+\n",
            "|DEST_COUNTRY_NAME|destination_total|\n",
            "+-----------------+-----------------+\n",
            "|    United States|           411352|\n",
            "|           Canada|             8399|\n",
            "|           Mexico|             7140|\n",
            "|   United Kingdom|             2025|\n",
            "|            Japan|             1548|\n",
            "+-----------------+-----------------+\n",
            "\n"
          ]
        }
      ]
    },
    {
      "cell_type": "code",
      "source": [
        "flightData2015\\\n",
        "    .groupBy(\"DEST_COUNTRY_NAME\")\\\n",
        "    .sum(\"count\")\\\n",
        "    .withColumnRenamed(\"sum(count)\", \"destination_total\")\\\n",
        "    .sort(desc(\"destination_total\"))\\\n",
        "    .limit(5)\\\n",
        "    .explain()\n"
      ],
      "metadata": {
        "id": "_7EL5dz1wbeS",
        "outputId": "8db2865b-ffdf-4c16-c524-32e7ea3f9ece",
        "colab": {
          "base_uri": "https://localhost:8080/"
        }
      },
      "execution_count": null,
      "outputs": [
        {
          "output_type": "stream",
          "name": "stdout",
          "text": [
            "== Physical Plan ==\n",
            "TakeOrderedAndProject(limit=5, orderBy=[destination_total#104L DESC NULLS LAST], output=[DEST_COUNTRY_NAME#16,destination_total#104L])\n",
            "+- *(2) HashAggregate(keys=[DEST_COUNTRY_NAME#16], functions=[sum(cast(count#18 as bigint))])\n",
            "   +- Exchange hashpartitioning(DEST_COUNTRY_NAME#16, 5), ENSURE_REQUIREMENTS, [id=#207]\n",
            "      +- *(1) HashAggregate(keys=[DEST_COUNTRY_NAME#16], functions=[partial_sum(cast(count#18 as bigint))])\n",
            "         +- FileScan csv [DEST_COUNTRY_NAME#16,count#18] Batched: false, DataFilters: [], Format: CSV, Location: InMemoryFileIndex[file:/content/drive/Shareddrives/BigData/flight-data/csv/2015-summary.csv], PartitionFilters: [], PushedFilters: [], ReadSchema: struct<DEST_COUNTRY_NAME:string,count:int>\n",
            "\n",
            "\n"
          ]
        }
      ]
    },
    {
      "cell_type": "markdown",
      "source": [
        "## Dataset 1\n"
      ],
      "metadata": {
        "id": "INeS56iJWHJg"
      }
    },
    {
      "cell_type": "code",
      "execution_count": null,
      "metadata": {
        "id": "4pIyFNrLuN36"
      },
      "outputs": [],
      "source": [
        "spark = SparkSession\\\n",
        "        .builder\\\n",
        "        .getOrCreate()"
      ]
    },
    {
      "cell_type": "code",
      "execution_count": null,
      "metadata": {
        "id": "VPsCSddXuN6c"
      },
      "outputs": [],
      "source": [
        "# #To upload files, use the following command\n",
        "# from google.colab import files\n",
        "# files.upload()"
      ]
    },
    {
      "cell_type": "code",
      "source": [
        "df1 = spark.read.csv(\"/content/drive/MyDrive/BigData/GlobalLandTemperatures_GlobalLandTemperaturesByCountry.csv\", inferSchema = True, header = True)"
      ],
      "metadata": {
        "id": "q8-clSEcFCFr"
      },
      "execution_count": null,
      "outputs": []
    },
    {
      "cell_type": "code",
      "source": [
        "df1.show()"
      ],
      "metadata": {
        "colab": {
          "base_uri": "https://localhost:8080/"
        },
        "id": "xFLA3X65FO6B",
        "outputId": "fb2914e6-2912-487c-f247-ce8fb7501611"
      },
      "execution_count": null,
      "outputs": [
        {
          "output_type": "stream",
          "name": "stdout",
          "text": [
            "+----------+-------------------+-----------------------------+-------+\n",
            "|        dt| AverageTemperature|AverageTemperatureUncertainty|Country|\n",
            "+----------+-------------------+-----------------------------+-------+\n",
            "|1743-11-01| 4.3839999999999995|                        2.294|  Åland|\n",
            "|1743-12-01|               null|                         null|  Åland|\n",
            "|1744-01-01|               null|                         null|  Åland|\n",
            "|1744-02-01|               null|                         null|  Åland|\n",
            "|1744-03-01|               null|                         null|  Åland|\n",
            "|1744-04-01|               1.53|                         4.68|  Åland|\n",
            "|1744-05-01|  6.702000000000001|                        1.789|  Åland|\n",
            "|1744-06-01| 11.609000000000002|                        1.577|  Åland|\n",
            "|1744-07-01|             15.342|                         1.41|  Åland|\n",
            "|1744-08-01|               null|                         null|  Åland|\n",
            "|1744-09-01|             11.702|                        1.517|  Åland|\n",
            "|1744-10-01|              5.477|                        1.862|  Åland|\n",
            "|1744-11-01|              3.407|                        1.425|  Åland|\n",
            "|1744-12-01|             -2.181|                        1.641|  Åland|\n",
            "|1745-01-01|              -3.85|                        1.841|  Åland|\n",
            "|1745-02-01| -6.574999999999998|                         1.36|  Åland|\n",
            "|1745-03-01|             -4.195|                        1.213|  Åland|\n",
            "|1745-04-01|-0.9660000000000002|                        1.172|  Åland|\n",
            "|1745-05-01|               null|                         null|  Åland|\n",
            "|1745-06-01|               null|                         null|  Åland|\n",
            "+----------+-------------------+-----------------------------+-------+\n",
            "only showing top 20 rows\n",
            "\n"
          ]
        }
      ]
    },
    {
      "cell_type": "code",
      "source": [
        "df1.describe().show()"
      ],
      "metadata": {
        "colab": {
          "base_uri": "https://localhost:8080/"
        },
        "id": "N7XODybfFn47",
        "outputId": "dd35a977-9302-4e16-98c3-439f300237a0"
      },
      "execution_count": null,
      "outputs": [
        {
          "output_type": "stream",
          "name": "stdout",
          "text": [
            "+-------+----------+------------------+-----------------------------+-----------+\n",
            "|summary|        dt|AverageTemperature|AverageTemperatureUncertainty|    Country|\n",
            "+-------+----------+------------------+-----------------------------+-----------+\n",
            "|  count|    577462|            544811|                       545550|     577462|\n",
            "|   mean|      null| 17.19335423293583|           1.0190569003757597|       null|\n",
            "| stddev|      null|10.953966445121187|           1.2019303866334272|       null|\n",
            "|    min|1743-11-01|           -37.658|         0.052000000000000005|Afghanistan|\n",
            "|    max|2013-09-01| 38.84200000000001|                       15.003|      Åland|\n",
            "+-------+----------+------------------+-----------------------------+-----------+\n",
            "\n"
          ]
        }
      ]
    },
    {
      "cell_type": "markdown",
      "source": [
        "### For which country and during what year,the highest average temperature was observed?\n"
      ],
      "metadata": {
        "id": "H6LtSF8DF5uw"
      }
    },
    {
      "cell_type": "code",
      "source": [
        "df1.orderBy(df1['AverageTemperature'].desc()).show()"
      ],
      "metadata": {
        "colab": {
          "base_uri": "https://localhost:8080/"
        },
        "id": "WRBEVC3IGDc3",
        "outputId": "f36c42df-891d-49f5-adee-5b709d53e6f6"
      },
      "execution_count": null,
      "outputs": [
        {
          "output_type": "stream",
          "name": "stdout",
          "text": [
            "+----------+------------------+-----------------------------+--------------------+\n",
            "|        dt|AverageTemperature|AverageTemperatureUncertainty|             Country|\n",
            "+----------+------------------+-----------------------------+--------------------+\n",
            "|2012-07-01| 38.84200000000001|                        0.464|              Kuwait|\n",
            "|2000-07-01| 38.70500000000001|                        0.467|              Kuwait|\n",
            "|2010-07-01| 38.49500000000001|                        0.498|              Kuwait|\n",
            "|1998-08-01|            38.436|                        0.353|              Kuwait|\n",
            "|2000-08-01|            38.315|                        0.593|              Kuwait|\n",
            "|2013-07-01|            38.234|                        0.454|              Kuwait|\n",
            "|2011-07-01| 38.15600000000001|                        0.375|              Kuwait|\n",
            "|1999-08-01|            38.153|                        0.442|              Kuwait|\n",
            "|2006-08-01|              38.1|                         0.79|              Kuwait|\n",
            "|2002-07-01|            38.042|          0.34600000000000003|              Kuwait|\n",
            "|2005-07-01|            38.032|           0.6609999999999999|              Kuwait|\n",
            "|2010-08-01|             38.02|                        0.336|              Kuwait|\n",
            "|2012-08-01|             38.02|                        1.001|              Kuwait|\n",
            "|2001-08-01|            37.791|                        0.711|              Kuwait|\n",
            "|1990-07-01|            37.789|                        0.759|              Kuwait|\n",
            "|1996-07-01|            37.774|                        0.536|              Kuwait|\n",
            "|2011-08-01|37.751999999999995|                        0.396|              Kuwait|\n",
            "|2010-07-01|             37.75|           0.5710000000000001|United Arab Emirates|\n",
            "|2012-07-01|            37.713|                        0.784|United Arab Emirates|\n",
            "|2008-07-01|            37.671|                        0.518|              Kuwait|\n",
            "+----------+------------------+-----------------------------+--------------------+\n",
            "only showing top 20 rows\n",
            "\n"
          ]
        }
      ]
    },
    {
      "cell_type": "code",
      "source": [
        "df1.orderBy(df1['AverageTemperature'].desc()).head(1)[0]"
      ],
      "metadata": {
        "colab": {
          "base_uri": "https://localhost:8080/"
        },
        "id": "vQmGlIj8GR31",
        "outputId": "9d2652e0-5d69-42df-aae8-f2a9a78bf787"
      },
      "execution_count": null,
      "outputs": [
        {
          "output_type": "execute_result",
          "data": {
            "text/plain": [
              "Row(dt='2012-07-01', AverageTemperature=38.84200000000001, AverageTemperatureUncertainty=0.464, Country='Kuwait')"
            ]
          },
          "metadata": {},
          "execution_count": 16
        }
      ]
    },
    {
      "cell_type": "markdown",
      "source": [
        "### Analyze the  data by country over the years,and name which are the top 10 countries with the biggest change in average temperature.\n"
      ],
      "metadata": {
        "id": "FjPj4csqGn87"
      }
    },
    {
      "cell_type": "code",
      "source": [
        "grouped_df = df1.groupBy('Country')"
      ],
      "metadata": {
        "id": "Jkt4qtckGb3t"
      },
      "execution_count": null,
      "outputs": []
    },
    {
      "cell_type": "code",
      "source": [
        "max_temp = grouped_df.agg({\"AverageTemperature\":'max'})\n",
        "max_temp = max_temp.withColumnRenamed(\"max(AverageTemperature)\",\"MaxAverageTemperature\")\n",
        "max_temp.show()"
      ],
      "metadata": {
        "colab": {
          "base_uri": "https://localhost:8080/"
        },
        "id": "BehzEVxSGg3x",
        "outputId": "2386e37f-4b42-4568-a659-84f00bd59dc9"
      },
      "execution_count": null,
      "outputs": [
        {
          "output_type": "stream",
          "name": "stdout",
          "text": [
            "+-------------+---------------------+\n",
            "|      Country|MaxAverageTemperature|\n",
            "+-------------+---------------------+\n",
            "|         Chad|               33.415|\n",
            "|     Anguilla|               29.636|\n",
            "| Kingman Reef|               29.129|\n",
            "|     Paraguay|   29.499000000000002|\n",
            "|       Russia|               16.893|\n",
            "|Palmyra Atoll|   29.148000000000003|\n",
            "|        Yemen|   32.736999999999995|\n",
            "|      Senegal|               32.871|\n",
            "|       Sweden|   17.930999999999997|\n",
            "|     Kiribati|   28.715999999999998|\n",
            "|       Guyana|                28.26|\n",
            "|        Burma|   28.485000000000007|\n",
            "|      Eritrea|               31.494|\n",
            "|       Jersey|               19.701|\n",
            "|  Philippines|               29.158|\n",
            "|     Djibouti|               35.175|\n",
            "|        Tonga|                27.39|\n",
            "|     Malaysia|                28.26|\n",
            "|    Singapore|   28.880000000000006|\n",
            "|         Fiji|                 27.9|\n",
            "+-------------+---------------------+\n",
            "only showing top 20 rows\n",
            "\n"
          ]
        }
      ]
    },
    {
      "cell_type": "code",
      "source": [
        "min_temp = grouped_df.agg({\"AverageTemperature\":'min'})\n",
        "min_temp = min_temp.withColumnRenamed(\"min(AverageTemperature)\",\"MinAverageTemperature\")\n",
        "min_temp.show()"
      ],
      "metadata": {
        "colab": {
          "base_uri": "https://localhost:8080/"
        },
        "id": "W_JtjK5CHO5v",
        "outputId": "93d3ceca-1e56-4e28-9c40-27642a3eaa8e"
      },
      "execution_count": null,
      "outputs": [
        {
          "output_type": "stream",
          "name": "stdout",
          "text": [
            "+-------------+---------------------+\n",
            "|      Country|MinAverageTemperature|\n",
            "+-------------+---------------------+\n",
            "|         Chad|               18.099|\n",
            "|     Anguilla|               23.241|\n",
            "| Kingman Reef|   24.791999999999998|\n",
            "|     Paraguay|   14.014000000000001|\n",
            "|       Russia|              -30.577|\n",
            "|Palmyra Atoll|               24.795|\n",
            "|        Yemen|               18.928|\n",
            "|      Senegal|               21.537|\n",
            "|       Sweden|              -16.608|\n",
            "|     Kiribati|   24.151999999999997|\n",
            "|       Guyana|               23.474|\n",
            "|        Burma|               16.095|\n",
            "|      Eritrea|   21.348000000000003|\n",
            "|       Jersey|   0.6929999999999996|\n",
            "|  Philippines|               22.984|\n",
            "|     Djibouti|   23.023000000000003|\n",
            "|        Tonga|               19.295|\n",
            "|     Malaysia|               23.533|\n",
            "|    Singapore|   24.031999999999996|\n",
            "|         Fiji|               21.283|\n",
            "+-------------+---------------------+\n",
            "only showing top 20 rows\n",
            "\n"
          ]
        }
      ]
    },
    {
      "cell_type": "code",
      "source": [
        "df1_merged = max_temp.join(min_temp, (max_temp[\"Country\"] == min_temp[\"Country\"]))\n",
        "df1_merged.show()"
      ],
      "metadata": {
        "colab": {
          "base_uri": "https://localhost:8080/"
        },
        "id": "5ncyqozvSs9l",
        "outputId": "30b3135e-3e26-44e6-d8c3-e63836d669a8"
      },
      "execution_count": null,
      "outputs": [
        {
          "output_type": "stream",
          "name": "stdout",
          "text": [
            "+-------------+---------------------+-------------+---------------------+\n",
            "|      Country|MaxAverageTemperature|      Country|MinAverageTemperature|\n",
            "+-------------+---------------------+-------------+---------------------+\n",
            "|         Chad|               33.415|         Chad|               18.099|\n",
            "|     Anguilla|               29.636|     Anguilla|               23.241|\n",
            "| Kingman Reef|               29.129| Kingman Reef|   24.791999999999998|\n",
            "|     Paraguay|   29.499000000000002|     Paraguay|   14.014000000000001|\n",
            "|       Russia|               16.893|       Russia|              -30.577|\n",
            "|Palmyra Atoll|   29.148000000000003|Palmyra Atoll|               24.795|\n",
            "|        Yemen|   32.736999999999995|        Yemen|               18.928|\n",
            "|      Senegal|               32.871|      Senegal|               21.537|\n",
            "|       Sweden|   17.930999999999997|       Sweden|              -16.608|\n",
            "|     Kiribati|   28.715999999999998|     Kiribati|   24.151999999999997|\n",
            "|       Guyana|                28.26|       Guyana|               23.474|\n",
            "|        Burma|   28.485000000000007|        Burma|               16.095|\n",
            "|      Eritrea|               31.494|      Eritrea|   21.348000000000003|\n",
            "|       Jersey|               19.701|       Jersey|   0.6929999999999996|\n",
            "|  Philippines|               29.158|  Philippines|               22.984|\n",
            "|     Djibouti|               35.175|     Djibouti|   23.023000000000003|\n",
            "|        Tonga|                27.39|        Tonga|               19.295|\n",
            "|     Malaysia|                28.26|     Malaysia|               23.533|\n",
            "|    Singapore|   28.880000000000006|    Singapore|   24.031999999999996|\n",
            "|         Fiji|                 27.9|         Fiji|               21.283|\n",
            "+-------------+---------------------+-------------+---------------------+\n",
            "only showing top 20 rows\n",
            "\n"
          ]
        }
      ]
    },
    {
      "cell_type": "code",
      "source": [
        "df1_merged = df1_merged.withColumn(\"Difference\",df1_merged[\"MaxAverageTemperature\"] -df1_merged[\"MinAverageTemperature\"])\n",
        "df1_merged.orderBy(df1_merged['Difference'].desc()).show(10)"
      ],
      "metadata": {
        "colab": {
          "base_uri": "https://localhost:8080/"
        },
        "id": "FF3kdehSVBUG",
        "outputId": "e3f50f7b-645c-4b0f-b09d-7b3506b02802"
      },
      "execution_count": null,
      "outputs": [
        {
          "output_type": "stream",
          "name": "stdout",
          "text": [
            "+------------+---------------------+------------+---------------------+------------------+\n",
            "|     Country|MaxAverageTemperature|     Country|MinAverageTemperature|        Difference|\n",
            "+------------+---------------------+------------+---------------------+------------------+\n",
            "|  Kazakhstan|   25.561999999999998|  Kazakhstan|              -23.601|            49.163|\n",
            "|    Mongolia|   20.715999999999998|    Mongolia|  -27.441999999999997|48.157999999999994|\n",
            "|      Russia|               16.893|      Russia|              -30.577|             47.47|\n",
            "|      Canada|               14.796|      Canada|              -28.736|            43.532|\n",
            "|  Uzbekistan|               30.375|  Uzbekistan|              -12.323|            42.698|\n",
            "|Turkmenistan|               32.136|Turkmenistan|               -8.443|            40.579|\n",
            "|     Finland|               19.132|     Finland|                -21.2|            40.332|\n",
            "|     Belarus|               22.811|     Belarus|              -16.527|            39.338|\n",
            "|     Ukraine|               24.297|     Ukraine|  -14.724000000000002|            39.021|\n",
            "|     Estonia|   22.331999999999997|     Estonia|  -16.551000000000002|38.882999999999996|\n",
            "+------------+---------------------+------------+---------------------+------------------+\n",
            "only showing top 10 rows\n",
            "\n"
          ]
        }
      ]
    },
    {
      "cell_type": "markdown",
      "source": [
        "## Dataset 2\n"
      ],
      "metadata": {
        "id": "96szveR0HbZv"
      }
    },
    {
      "cell_type": "code",
      "source": [
        "df2 = spark.read.csv(\"/content/drive/MyDrive/BigData/CO2 emissions per capita per country.csv\", inferSchema = True, header = True)"
      ],
      "metadata": {
        "id": "112hBGmgD8Wf"
      },
      "execution_count": null,
      "outputs": []
    },
    {
      "cell_type": "code",
      "source": [
        "df2.show()"
      ],
      "metadata": {
        "colab": {
          "base_uri": "https://localhost:8080/"
        },
        "id": "mG_une7GIdOR",
        "outputId": "0dee3dcc-fd82-4525-b57a-b626e13b7579"
      },
      "execution_count": null,
      "outputs": [
        {
          "output_type": "stream",
          "name": "stdout",
          "text": [
            "+--------------------+------------+-----------+-----------+-----------+-----------+-----------+-----------+-----------+-----------+-----------+-----------+-----------+-----------+-----------+-----------+-----------+-----------+-----------+-----------+-----------+-----------+-----------+-----------+-----------+-----------+-----------+-----------+-----------+-----------+-----------+-----------+-----------+-----------+-----------+-----------+-----------+-----------+-----------+-----------+-----------+-----------+-----------+-----------+-----------+-----------+-----------+-----------+-----------+-----------+-----------+-----------+-----------+-----------+-----------+-----------+-----------+----+----+----+----+\n",
            "|        Country Name|Country Code|       1960|       1961|       1962|       1963|       1964|       1965|       1966|       1967|       1968|       1969|       1970|       1971|       1972|       1973|       1974|       1975|       1976|       1977|       1978|       1979|       1980|       1981|       1982|       1983|       1984|       1985|       1986|       1987|       1988|       1989|       1990|       1991|       1992|       1993|       1994|       1995|       1996|       1997|       1998|       1999|       2000|       2001|       2002|       2003|       2004|       2005|       2006|       2007|       2008|       2009|       2010|       2011|       2012|       2013|       2014|2015|2016|2017|2018|\n",
            "+--------------------+------------+-----------+-----------+-----------+-----------+-----------+-----------+-----------+-----------+-----------+-----------+-----------+-----------+-----------+-----------+-----------+-----------+-----------+-----------+-----------+-----------+-----------+-----------+-----------+-----------+-----------+-----------+-----------+-----------+-----------+-----------+-----------+-----------+-----------+-----------+-----------+-----------+-----------+-----------+-----------+-----------+-----------+-----------+-----------+-----------+-----------+-----------+-----------+-----------+-----------+-----------+-----------+-----------+-----------+-----------+-----------+----+----+----+----+\n",
            "|               Aruba|         ABW|       null|       null|       null|       null|       null|       null|       null|       null|       null|       null|       null|       null|       null|       null|       null|       null|       null|       null|       null|       null|       null|       null|       null|       null|       null|       null|2.868319392|7.235198033|10.02617921| 10.6347326|26.37450321| 26.0461298| 21.4425588|22.00078616|21.03624511|20.77193616|20.31835337|20.42681771|20.58766915|20.31156677|26.19487524|25.93402441|25.67116178|26.42045209|26.51729342|27.20070778|26.94826047|  27.895574|26.23084664|25.91583295|24.67052887| 24.5058352|13.15554169|8.351294252|8.408362638|null|null|null|null|\n",
            "|         Afghanistan|         AFG|0.046059897|0.053604304|0.073764791|0.074232685|0.086292452|0.101467397|0.107636955|0.123734289| 0.11549774| 0.08682346|0.150290627|0.166042044| 0.13076385|0.136279785|0.155649444|0.168928649|0.154787206|0.182963616|0.163159571|0.168376671|0.132858608|0.151972881|0.164803883|0.203635582|0.234987713|0.297827727|0.270891121|0.271611659|0.248472561|0.235694613|0.213449805|0.187672724|0.099666474|0.089154036| 0.08003917|0.072698618|0.066044698|0.059648382| 0.05520717|0.042332597| 0.03850634|0.039002334|0.048715548|  0.0518296|0.039377828|0.052948215|0.063728472|0.085417506|0.154101422|0.241722682|0.293836994|0.412016938|0.350370581|0.315601773|0.299444991|null|null|null|null|\n",
            "|              Angola|         AGO|0.097471604|0.079038085|0.201289076|0.192534735|0.201003361|0.191528411|0.246412785|0.154911578|0.256315998|0.419550564|0.528697988|0.492302233|0.635214721|0.670624323|0.652023363|0.574693143|0.415850303|0.434755038|0.646179204|0.636944237|0.598717343|0.571201904|0.485251545|0.515071547|0.487395694|0.443121443|0.426768722|  0.5184278|0.445557344|0.423524277|0.420284254|0.405450105|0.400678653|0.430889258|0.281092579|0.769173426|0.712306341|0.489209377| 0.47137391|0.574083595|0.580352661|0.573047493|0.720768849|0.497975073|0.996165478|0.979740026|1.098883898|1.197843982|1.181526759|1.232494515|1.243405585|1.252789255|1.330843018|1.254617218|1.291328315|null|null|null|null|\n",
            "|             Albania|         ALB|1.258194928|1.374186047|1.439955964|1.181681144| 1.11174196|1.166099043|1.333055465|  1.3637463|1.519551277|1.558967572|1.753239905|1.989497923|2.515914398|2.303897417|1.849006691|1.910633637|2.013584562|2.275876391| 2.53062504|2.898208518| 1.93505831|2.693023914|2.624856785|2.683239919|2.694291374|2.658015382|2.665356221|2.414060815|2.331598531|2.783243075|1.678106654|  1.3122126|0.774724911|0.723790292|0.600203708|0.654537133|0.636625313| 0.49036506|0.560271437|0.960164412|0.978174681|1.053304176|1.229540709|1.412697196|1.376212735|1.412498211|1.302576367|1.322334855|1.484311139|1.495600199|1.578573584|1.803714725|1.692908325|1.749211079|1.978763312|null|null|null|null|\n",
            "|             Andorra|         AND|       null|       null|       null|       null|       null|       null|       null|       null|       null|       null|       null|       null|       null|       null|       null|       null|       null|       null|       null|       null|       null|       null|       null|       null|       null|       null|       null|       null|       null|       null|7.467335669|7.182456636|6.912053389|6.736054846|6.494200424|6.662051684|7.065071473|7.239712718|7.660783886|7.975454404|8.019284294|7.786950001|7.590615141|7.315760706|7.358624941|7.299871936|6.746218716|6.519465912|6.427886622|6.121652341|6.122594702|5.867129945|5.916596911|5.900752587|5.832169951|null|null|null|null|\n",
            "|          Arab World|         ARB|0.643689011|0.685150884|0.760854507|0.874941189|0.999097655|1.165705386|1.272650672|1.331404395|1.544942527|1.789913392|1.801245462|1.993486215|2.109871603|2.396799726|2.273440745|2.184263525|2.568710035|2.631628366| 2.74324133|2.842655116|3.069208819|2.907057909| 2.70111659|2.793356928|2.956318154|3.035558013|3.255536588|3.168821856|3.264489032|3.226127128|2.989008072|3.207224619|3.385246998| 3.63837855|3.644858894|3.398199765|3.304793683|3.124848492|3.329548276|3.309553392|3.684441272|3.590302965|3.588035581|3.779889011|4.051465169|4.168486256|4.268239866|4.100226273|4.390401434|4.542151451|4.615758201|4.537755236|4.813630727|4.650474168|4.860233832|null|null|null|null|\n",
            "|United Arab Emirates|         ARE|0.118757692| 0.10883674|0.163018351|0.175222592|0.132354958|0.146326865|0.159950399|5.383684807|6.785773552|100.6976695|64.74501378|75.98153209|70.48362784|77.12098728|66.46069916|56.05113796|61.29020795|51.84464328|52.58289939| 38.4518098|35.40411979|32.88162816|30.99646083|28.20499098|35.18821247|35.89096957| 32.0839896|30.55837249|29.21022992|31.02882617|27.95924521|28.93913532|27.86136845|  29.890451|31.40439759| 28.8469908|15.97008152|15.42443139| 28.7143215|26.22842771|35.67825923|30.49115342|24.15124891|28.55255307|27.70120802|25.36237265|23.63108943|22.43980121|22.82394719|21.90855608|19.44369027|19.07648878|19.81768422|18.95416379|23.30202251|null|null|null|null|\n",
            "|           Argentina|         ARG|2.367473032|2.442615898|2.522392105|2.316356332|2.538379303|2.641714344|2.792653799|2.858162297| 2.96985458|3.275850995|3.451159798|3.650078618|3.637858513|3.730791118|3.726698966|3.641822498|3.768774074|3.749871394|3.762750369|3.998733119|3.868853067|3.574967863|3.567086789|3.572042094|3.560142534| 3.31032707|   3.377245|3.669168725|3.820445568|3.629201904|3.426481983| 3.52770381|3.605749117|3.457164549|3.542095019|3.656645582|3.811457285|3.851202695|3.857870916|4.010698763|3.835573665|3.568599866|3.291547735| 3.52558427| 4.06905838|4.141236814|4.434821452|4.382668884|4.682912395|4.410889894|4.558499612|4.600290699|4.569383676|4.462903755|4.746797455|null|null|null|null|\n",
            "|             Armenia|         ARM|       null|       null|       null|       null|       null|       null|       null|       null|       null|       null|       null|       null|       null|       null|       null|       null|       null|       null|       null|       null|       null|       null|       null|       null|       null|       null|       null|       null|       null|       null|       null|       null|1.692473009|0.759983503|0.824155363| 1.05997746|0.809046419|1.032302975|1.081692124|0.975803629|1.128918604|1.161167684|1.003201493|1.136138307|1.214751524|1.460030477|1.481177962|1.726570171|1.911537642|1.509411878|1.465621895|1.710070765|1.976060074|1.899711734| 1.90275891|null|null|null|null|\n",
            "|      American Samoa|         ASM|       null|       null|       null|       null|       null|       null|       null|       null|       null|       null|       null|       null|       null|       null|       null|       null|       null|       null|       null|       null|       null|       null|       null|       null|       null|       null|       null|       null|       null|       null|       null|       null|       null|       null|       null|       null|       null|       null|       null|       null|       null|       null|       null|       null|       null|       null|       null|       null|       null|       null|       null|       null|       null|       null|       null|null|null|null|null|\n",
            "| Antigua and Barbuda|         ATG|0.662642982|0.849084497|1.796794064|1.446821285|1.540135072|2.473585495|5.613448493|8.912847222|15.31343284|19.08331058|6.886077081|6.238223734|5.406990864|4.710273171|6.053204097|9.883268863|5.580272532| 6.39051801|6.701462004|5.535809488| 1.94729174| 1.45543755|4.049249117|1.177305658|2.073948392|3.573357026| 3.62388641|4.053725403|4.265352382|4.292944302| 4.23352225|3.977164337|3.858476917| 3.87997941|3.732497664|3.735788316|3.878986619|3.962335507|3.995303753|4.033068153|4.123971095| 4.09566526|4.293313704|4.620874526|4.778147909|4.806998084|4.913644367|5.136472571|5.194500314|5.446757355|5.539567509|5.363407474|5.418446532|5.360453467|5.377648546|null|null|null|null|\n",
            "|           Australia|         AUS|8.582936643|8.641569017|8.835688047|9.226439909|9.759073431|10.62232139|10.32809244| 10.9556248|11.21016771|11.60055435|11.80289054|11.80911757|11.95163155|12.77968685|12.55966873|12.65989981|12.41679178|13.23189614|14.06985862|14.12909198|15.02491601|15.43250084|15.42493181|14.64008413| 15.2209753| 15.3084102|14.98057315| 15.7469578|15.79616778|16.51986292|15.45288167|15.12796621|15.31776851| 15.7014518|15.57658628|15.59651881|16.50180039|16.51427321|16.93569585|17.19029769|17.20060983|16.73336743|17.37045177|16.90195895|17.02651535|17.16971145|17.65139831|17.86526004|18.16087566|18.20018196|17.74084505|17.53887776|17.07290468|16.09583317|15.38876602|null|null|null|null|\n",
            "|             Austria|         AUT|4.373318828|4.496361641|4.755361673|5.155193747|5.391003988|5.252196533|5.361724683|5.417736727|5.711110104|6.006325178|6.788807307|6.953651912|7.448516814|7.930866985|7.562697278|7.176844855|7.721250012|7.428063284|7.601371804|8.158846402|   6.928479|7.416160614|7.112124941|6.874373273|7.214278667|7.230766353|7.144304852|7.623419815|7.032030698|7.102448997|7.513246156|7.944096184|7.226236428|7.223017309|7.189264701|7.521516107|7.938008299|7.863667996|7.981004261|7.741130615|7.774259739|8.192769898|8.299115796|8.889562334|8.858363703|9.020169598|8.727297872|8.406418936|8.295095978|7.518751102|8.071131802|7.748134305|7.387077163|7.368748145| 6.86986793|null|null|null|null|\n",
            "|          Azerbaijan|         AZE|       null|       null|       null|       null|       null|       null|       null|       null|       null|       null|       null|       null|       null|       null|       null|       null|       null|       null|       null|       null|       null|       null|       null|       null|       null|       null|       null|       null|       null|       null|       null|       null| 7.61863709|6.464585857|5.525358563|4.337414444|4.026472755|3.803022741| 4.00297561|3.579835395|3.666271029|3.547105484|3.623944346|3.718169927|3.863229639|4.091801927|4.616299863|  3.5553401|4.051383481|3.565668218|3.388225879|3.646179877| 3.82487717|3.785068836|3.931560609|null|null|null|null|\n",
            "|             Burundi|         BDI|       null|       null|0.015206992|0.016160066|0.015833023| 0.01191406| 0.01512058|0.014740464|0.016586591|0.021623037|0.018039962| 0.02092206|0.020693856|0.020494678|0.025334488|0.020974295|0.023533697|0.025910488|0.026234565|0.027411289|0.035629468|0.037336898|0.036387481|0.046159711|0.048130813|0.049131807|0.048473582|0.049993825|0.044267124|0.050698823|0.038597042|0.043008469|0.038217221|0.039393228|0.039969978|0.039978645|0.040062492|0.040797127|0.040307438|0.040297088|0.042395011|0.031323575|0.031548442|0.023205146|0.027569697|0.020747407|0.024365963|0.023555045|0.023219419|0.022462399|0.024260032| 0.02676196|0.030296973| 0.03017577|0.044485376|null|null|null|null|\n",
            "|             Belgium|         BEL|9.941594074|10.10387199|10.64118963|11.38692874|11.05365472|11.14165555|11.04201943|11.21725675|12.32568713|12.81544961|13.01017881|12.56342518|13.47269526| 14.2554864|13.83696555| 12.4583039|13.24167979|12.87543872|13.80705794|14.23923382|13.72329627|12.57955507|11.92668478|10.31207942|10.69696639|10.59744025|10.43154171|10.44717278|10.13514385|10.81351494|10.63967167|11.09099988|11.14648251|10.67503455| 11.1051094|11.08115205|11.62383425|11.32885202|11.60191455|11.17302675| 11.2296677|11.13371551| 10.3854951|10.88211417|10.66129022|10.35539299|  10.151039|9.744777191|9.751984809|9.249615685|10.17146522|9.054330011| 8.56287875|8.689543091|8.328159898|null|null|null|null|\n",
            "|               Benin|         BEN|0.066354063| 0.05204863|0.054208805|0.047588561|0.055303533|0.057114995|0.042382648|0.052284076|0.055170709|0.070750258|0.096952622|0.098556326|0.127712648|0.122481633|0.127701408|0.135891142|0.077784148|0.086510056|0.103019122|0.101339606|0.139097135|0.112310111|0.125105341|0.112552906|0.120856597|0.173986403|0.155688061|0.118857275|0.118496584|0.130855167|0.142157591|0.159512217|0.168501162|0.205206743|0.221397671|0.224780453|0.207591276|0.193809928|0.187593089|0.234411619|0.232860969|0.256497596|0.285000234|0.313037269|0.323642156|0.299985405|0.471267009|0.531738987|0.507237393|0.521063185|0.553283259|0.559693354|0.562347006|0.580960914|0.614213852|null|null|null|null|\n",
            "|        Burkina Faso|         BFA|0.009111902|0.018729901|0.017003116|0.017504203|0.021575284|0.019841271|0.019533659|0.019216851|0.018894962|0.021889868|0.025426341|0.026268913|0.027698405|0.028443214|0.033998445| 0.03574919|0.033314914| 0.03896836|0.053341702| 0.06100989| 0.06342019|0.079795452|0.080427283| 0.08092381|0.061836945|0.061686819|0.060571874|0.063518718|0.066263378|0.095737173|0.066173051|0.069287423|0.067840845|  0.0656434|0.065745043|0.062147134|0.068229866|0.075639822|0.078563833| 0.08255275|0.089716851|0.083504269|0.081733493|0.085194017|0.084705971|0.083875344|0.098375847|0.115526282|0.130556622|0.127633338|0.125717252|0.137496219|0.158663009|0.179132409|0.162018806|null|null|null|null|\n",
            "|          Bangladesh|         BGD|       null|       null|       null|       null|       null|       null|       null|       null|       null|       null|       null|       null|0.051914946|0.066302743|0.066692361| 0.06829413|0.076304643|0.077572579|0.078115625|0.083903855|0.093755743|0.094739619|0.099981186|0.093233483|0.100553935|0.109813432|0.119727919|0.120625234|0.134150581| 0.12986798|0.146281294|0.146609266|0.159575353|0.153104602|0.163272688|0.192205167|0.198152233|0.202365814|0.190182468| 0.19558517|0.211802225|0.242020016|0.246756218| 0.25660216|0.266823041|0.275246594|0.299529173|0.301630726|0.332727819|0.357158767|0.393936699|0.412011186|0.433487963|0.442400828|0.459141965|null|null|null|null|\n",
            "|            Bulgaria|         BGR|2.833901121|3.269920074|3.835891818|4.259780927|5.262987916|5.645651942|5.905436715|6.638369161|7.112214403|7.869932816|7.213424372|7.532552676|7.715656701|7.983550221|8.210958036|8.377877479|8.347946173|8.628766462|9.236529547|8.968132006|8.744238667| 9.03643153|10.10727531|10.10833662|9.749961471|9.992783476|10.21729994|  10.214134|9.718843491|9.771261867| 8.54301079|6.666757565|6.347137362| 8.00979638|6.414520789|6.900326395|6.763241038|6.209849583|5.934325293|5.356718076|5.328034342|5.800066474|5.695266947|6.084370085|6.064891808|6.256282044|6.445333272|6.925435282|6.772087541|5.731193724|5.964900206| 6.71538056|6.119456526|5.450695963|5.871615869|null|null|null|null|\n",
            "+--------------------+------------+-----------+-----------+-----------+-----------+-----------+-----------+-----------+-----------+-----------+-----------+-----------+-----------+-----------+-----------+-----------+-----------+-----------+-----------+-----------+-----------+-----------+-----------+-----------+-----------+-----------+-----------+-----------+-----------+-----------+-----------+-----------+-----------+-----------+-----------+-----------+-----------+-----------+-----------+-----------+-----------+-----------+-----------+-----------+-----------+-----------+-----------+-----------+-----------+-----------+-----------+-----------+-----------+-----------+-----------+-----------+----+----+----+----+\n",
            "only showing top 20 rows\n",
            "\n"
          ]
        }
      ]
    },
    {
      "cell_type": "code",
      "source": [
        "df2.describe().show()"
      ],
      "metadata": {
        "colab": {
          "base_uri": "https://localhost:8080/"
        },
        "id": "2xXoqyxZIiTX",
        "outputId": "5974a1ef-24eb-44c2-dcc5-e827980550e4"
      },
      "execution_count": null,
      "outputs": [
        {
          "output_type": "stream",
          "name": "stdout",
          "text": [
            "+-------+------------+------------+------------------+-----------------+------------------+------------------+-----------------+------------------+------------------+-----------------+-----------------+------------------+-----------------+-----------------+-----------------+------------------+-----------------+-----------------+------------------+------------------+-----------------+-----------------+-----------------+------------------+-----------------+-----------------+------------------+-----------------+-----------------+------------------+-----------------+-----------------+-----------------+-----------------+-----------------+-----------------+-----------------+-----------------+-----------------+------------------+------------------+------------------+------------------+-----------------+------------------+-----------------+-----------------+-----------------+-----------------+-----------------+-----------------+-----------------+-----------------+-----------------+-----------------+------------------+-----------------+----+----+----+----+\n",
            "|summary|Country Name|Country Code|              1960|             1961|              1962|              1963|             1964|              1965|              1966|             1967|             1968|              1969|             1970|             1971|             1972|              1973|             1974|             1975|              1976|              1977|             1978|             1979|             1980|              1981|             1982|             1983|              1984|             1985|             1986|              1987|             1988|             1989|             1990|             1991|             1992|             1993|             1994|             1995|             1996|              1997|              1998|              1999|              2000|             2001|              2002|             2003|             2004|             2005|             2006|             2007|             2008|             2009|             2010|             2011|             2012|              2013|             2014|2015|2016|2017|2018|\n",
            "+-------+------------+------------+------------------+-----------------+------------------+------------------+-----------------+------------------+------------------+-----------------+-----------------+------------------+-----------------+-----------------+-----------------+------------------+-----------------+-----------------+------------------+------------------+-----------------+-----------------+-----------------+------------------+-----------------+-----------------+------------------+-----------------+-----------------+------------------+-----------------+-----------------+-----------------+-----------------+-----------------+-----------------+-----------------+-----------------+-----------------+------------------+------------------+------------------+------------------+-----------------+------------------+-----------------+-----------------+-----------------+-----------------+-----------------+-----------------+-----------------+-----------------+-----------------+-----------------+------------------+-----------------+----+----+----+----+\n",
            "|  count|         264|         264|               192|              193|               195|               196|              203|               203|               203|              203|              203|               203|              205|              206|              208|               208|              208|              208|               208|               208|              208|              208|              208|               208|              208|              208|               208|              208|              209|               209|              209|              209|              215|              217|              241|              241|              242|              243|              243|               244|               245|               245|               245|              245|               246|              246|              246|              247|              248|              249|              249|              249|              249|              249|              251|               251|              250|   0|   0|   0|   0|\n",
            "|   mean|        null|        null|2.0441783908177085|2.157479864538861|2.2488049222051276|2.7634205084285703|2.912680068142856|3.0316694686896533|3.0446996531970454|3.111186310413793|3.309332967596057|3.9191244998226593|4.197480374409761|4.421934022213595|4.488119374057692| 4.805842462769229|4.499457508288458|4.366105995028844|4.3566088581490385| 4.486631686408652|4.511017135326925| 4.56301375180288|4.464373396841345|3.9935487841105752|3.872467809014423|3.726820254807689|3.8243866911634634|3.917695550951922| 3.90544671704306|3.9426031941578925|4.077311975177032|4.213261544602872|4.082445945293023| 4.12124666359447|4.479572514066392|4.502859006871367|4.424655464789256|4.474822216555554| 4.49404976384362|4.4923564963893465| 4.482341602204084|  4.45007266436735|4.5787572154367355|4.631754758122448| 4.598493646569104|4.730172571195122|4.777434844158535| 4.82138487608907|4.899786316879033|4.930891345710842|4.936829229128514|4.722804110947789|4.845600978903612|4.806688992056226|4.949244606936254|4.8625763527529875|4.874891866776002|null|null|null|null|\n",
            "| stddev|        null|        null|  4.19013133562267|4.382109986305979| 4.720572468438973| 8.458954593944794|8.486375560405666| 8.696179595196574| 8.053600221510328|7.258579127838732|7.180269551769366| 9.898252958831659|9.252505669035832|9.874795266950125|10.13049246975966|10.750507319436485|9.182102943186157|8.446873882008916| 8.053850943495645|7.9862684003319755|8.034929014370215|7.947976355059694|7.412516522648616| 6.194085296640771|5.782350417896749|5.285756172214453| 5.558562089820974|5.598985133774683|5.527573992497254| 5.327131525540222|5.476824675229264|5.727762757252643| 5.62833683047693|5.683999100801457|6.016903429507148|6.338014918012369|6.237478807269939|6.383048879364537|6.248893202716061|6.5633175666278705|6.1773357457395734|5.9641899839963965|  6.37275555710367| 6.52095239434664|6.3122163532721345|6.359887317234834|6.284967266449694|6.407478884292914| 6.55519758538462|6.392676986351809|6.177654981382184|5.857454468941018|5.894708093671343|5.820145359490946|6.188208594159372|  5.85643157726449|6.095744436487594|null|null|null|null|\n",
            "|    min| Afghanistan|         ABW|       0.008016885|      0.007892379|        0.00847518|       0.009382723|      0.011598103|        0.01191406|       0.013257883|      0.011800251|     -0.020100465|       0.016116065|      0.012292952|      0.011903796|      0.011529815|       0.011169254|      0.009737866|      0.009749298|       0.009906964|       0.010194211|      0.007380852|      0.004334052|      0.035629468|       0.029818854|      0.028429569|      0.030989858|       0.041134025|      0.035290536|      0.035669805|       0.036615165|      0.011819841|      0.017800705|      0.024008122|      0.010732542|      0.013283953|      0.013984221|      0.015161545|      0.015714093|      0.017218021|       0.019085574|       0.019376466|       0.020063553|       0.017292618|      0.017276319|       0.018616172|      0.019194831|      0.022610101|      0.020747407|      0.024365963|      0.023555045|      0.023219419|      0.022462399|      0.024260032|       0.02676196|      0.030296973|        0.03017577|      0.044485376|null|null|null|null|\n",
            "|    max|    Zimbabwe|         ZWE|        36.6851833|      36.58377756|       42.24199813|       99.46300047|      92.85948762|       85.45858515|       78.62712289|      77.50863897|      75.97533288|       100.6976695|      69.11160217|       76.6414791|      82.61944781|       87.65264586|       68.2325769|      66.64312433|       61.29020795|       54.40915245|      54.82565216|      69.94185463|      58.53434923|       51.82542798|      44.53605315|      36.41181146|       36.11638723|      35.89096957|      33.41410593|       30.55837249|      29.21022992|      31.02882617|      27.95924521|      36.31713406|      54.08916949|      61.25240945|      59.60108855|      61.91238375|      61.83934261|       70.13564144|       58.86599931|       55.15501004|        58.6393586|      67.10601797|       63.35447194|      60.29957188|      56.59083356|      58.91873279|      62.82353605|      53.19098579|       46.6721376|      43.51447655|      40.74201765|      41.20564544|      44.61792936|       37.78008534|      45.42323996|null|null|null|null|\n",
            "+-------+------------+------------+------------------+-----------------+------------------+------------------+-----------------+------------------+------------------+-----------------+-----------------+------------------+-----------------+-----------------+-----------------+------------------+-----------------+-----------------+------------------+------------------+-----------------+-----------------+-----------------+------------------+-----------------+-----------------+------------------+-----------------+-----------------+------------------+-----------------+-----------------+-----------------+-----------------+-----------------+-----------------+-----------------+-----------------+-----------------+------------------+------------------+------------------+------------------+-----------------+------------------+-----------------+-----------------+-----------------+-----------------+-----------------+-----------------+-----------------+-----------------+-----------------+-----------------+------------------+-----------------+----+----+----+----+\n",
            "\n"
          ]
        }
      ]
    },
    {
      "cell_type": "code",
      "source": [
        "df2 = df2.withColumnRenamed(\"Country Name\",\"Country\")\n",
        "df2.show()"
      ],
      "metadata": {
        "colab": {
          "base_uri": "https://localhost:8080/"
        },
        "id": "5wQIcsbLJJ2Q",
        "outputId": "34f6884f-8ca0-4231-d69a-1977f3e3c46c"
      },
      "execution_count": null,
      "outputs": [
        {
          "output_type": "stream",
          "name": "stdout",
          "text": [
            "+--------------------+------------+-----------+-----------+-----------+-----------+-----------+-----------+-----------+-----------+-----------+-----------+-----------+-----------+-----------+-----------+-----------+-----------+-----------+-----------+-----------+-----------+-----------+-----------+-----------+-----------+-----------+-----------+-----------+-----------+-----------+-----------+-----------+-----------+-----------+-----------+-----------+-----------+-----------+-----------+-----------+-----------+-----------+-----------+-----------+-----------+-----------+-----------+-----------+-----------+-----------+-----------+-----------+-----------+-----------+-----------+-----------+----+----+----+----+\n",
            "|             Country|Country Code|       1960|       1961|       1962|       1963|       1964|       1965|       1966|       1967|       1968|       1969|       1970|       1971|       1972|       1973|       1974|       1975|       1976|       1977|       1978|       1979|       1980|       1981|       1982|       1983|       1984|       1985|       1986|       1987|       1988|       1989|       1990|       1991|       1992|       1993|       1994|       1995|       1996|       1997|       1998|       1999|       2000|       2001|       2002|       2003|       2004|       2005|       2006|       2007|       2008|       2009|       2010|       2011|       2012|       2013|       2014|2015|2016|2017|2018|\n",
            "+--------------------+------------+-----------+-----------+-----------+-----------+-----------+-----------+-----------+-----------+-----------+-----------+-----------+-----------+-----------+-----------+-----------+-----------+-----------+-----------+-----------+-----------+-----------+-----------+-----------+-----------+-----------+-----------+-----------+-----------+-----------+-----------+-----------+-----------+-----------+-----------+-----------+-----------+-----------+-----------+-----------+-----------+-----------+-----------+-----------+-----------+-----------+-----------+-----------+-----------+-----------+-----------+-----------+-----------+-----------+-----------+-----------+----+----+----+----+\n",
            "|               Aruba|         ABW|       null|       null|       null|       null|       null|       null|       null|       null|       null|       null|       null|       null|       null|       null|       null|       null|       null|       null|       null|       null|       null|       null|       null|       null|       null|       null|2.868319392|7.235198033|10.02617921| 10.6347326|26.37450321| 26.0461298| 21.4425588|22.00078616|21.03624511|20.77193616|20.31835337|20.42681771|20.58766915|20.31156677|26.19487524|25.93402441|25.67116178|26.42045209|26.51729342|27.20070778|26.94826047|  27.895574|26.23084664|25.91583295|24.67052887| 24.5058352|13.15554169|8.351294252|8.408362638|null|null|null|null|\n",
            "|         Afghanistan|         AFG|0.046059897|0.053604304|0.073764791|0.074232685|0.086292452|0.101467397|0.107636955|0.123734289| 0.11549774| 0.08682346|0.150290627|0.166042044| 0.13076385|0.136279785|0.155649444|0.168928649|0.154787206|0.182963616|0.163159571|0.168376671|0.132858608|0.151972881|0.164803883|0.203635582|0.234987713|0.297827727|0.270891121|0.271611659|0.248472561|0.235694613|0.213449805|0.187672724|0.099666474|0.089154036| 0.08003917|0.072698618|0.066044698|0.059648382| 0.05520717|0.042332597| 0.03850634|0.039002334|0.048715548|  0.0518296|0.039377828|0.052948215|0.063728472|0.085417506|0.154101422|0.241722682|0.293836994|0.412016938|0.350370581|0.315601773|0.299444991|null|null|null|null|\n",
            "|              Angola|         AGO|0.097471604|0.079038085|0.201289076|0.192534735|0.201003361|0.191528411|0.246412785|0.154911578|0.256315998|0.419550564|0.528697988|0.492302233|0.635214721|0.670624323|0.652023363|0.574693143|0.415850303|0.434755038|0.646179204|0.636944237|0.598717343|0.571201904|0.485251545|0.515071547|0.487395694|0.443121443|0.426768722|  0.5184278|0.445557344|0.423524277|0.420284254|0.405450105|0.400678653|0.430889258|0.281092579|0.769173426|0.712306341|0.489209377| 0.47137391|0.574083595|0.580352661|0.573047493|0.720768849|0.497975073|0.996165478|0.979740026|1.098883898|1.197843982|1.181526759|1.232494515|1.243405585|1.252789255|1.330843018|1.254617218|1.291328315|null|null|null|null|\n",
            "|             Albania|         ALB|1.258194928|1.374186047|1.439955964|1.181681144| 1.11174196|1.166099043|1.333055465|  1.3637463|1.519551277|1.558967572|1.753239905|1.989497923|2.515914398|2.303897417|1.849006691|1.910633637|2.013584562|2.275876391| 2.53062504|2.898208518| 1.93505831|2.693023914|2.624856785|2.683239919|2.694291374|2.658015382|2.665356221|2.414060815|2.331598531|2.783243075|1.678106654|  1.3122126|0.774724911|0.723790292|0.600203708|0.654537133|0.636625313| 0.49036506|0.560271437|0.960164412|0.978174681|1.053304176|1.229540709|1.412697196|1.376212735|1.412498211|1.302576367|1.322334855|1.484311139|1.495600199|1.578573584|1.803714725|1.692908325|1.749211079|1.978763312|null|null|null|null|\n",
            "|             Andorra|         AND|       null|       null|       null|       null|       null|       null|       null|       null|       null|       null|       null|       null|       null|       null|       null|       null|       null|       null|       null|       null|       null|       null|       null|       null|       null|       null|       null|       null|       null|       null|7.467335669|7.182456636|6.912053389|6.736054846|6.494200424|6.662051684|7.065071473|7.239712718|7.660783886|7.975454404|8.019284294|7.786950001|7.590615141|7.315760706|7.358624941|7.299871936|6.746218716|6.519465912|6.427886622|6.121652341|6.122594702|5.867129945|5.916596911|5.900752587|5.832169951|null|null|null|null|\n",
            "|          Arab World|         ARB|0.643689011|0.685150884|0.760854507|0.874941189|0.999097655|1.165705386|1.272650672|1.331404395|1.544942527|1.789913392|1.801245462|1.993486215|2.109871603|2.396799726|2.273440745|2.184263525|2.568710035|2.631628366| 2.74324133|2.842655116|3.069208819|2.907057909| 2.70111659|2.793356928|2.956318154|3.035558013|3.255536588|3.168821856|3.264489032|3.226127128|2.989008072|3.207224619|3.385246998| 3.63837855|3.644858894|3.398199765|3.304793683|3.124848492|3.329548276|3.309553392|3.684441272|3.590302965|3.588035581|3.779889011|4.051465169|4.168486256|4.268239866|4.100226273|4.390401434|4.542151451|4.615758201|4.537755236|4.813630727|4.650474168|4.860233832|null|null|null|null|\n",
            "|United Arab Emirates|         ARE|0.118757692| 0.10883674|0.163018351|0.175222592|0.132354958|0.146326865|0.159950399|5.383684807|6.785773552|100.6976695|64.74501378|75.98153209|70.48362784|77.12098728|66.46069916|56.05113796|61.29020795|51.84464328|52.58289939| 38.4518098|35.40411979|32.88162816|30.99646083|28.20499098|35.18821247|35.89096957| 32.0839896|30.55837249|29.21022992|31.02882617|27.95924521|28.93913532|27.86136845|  29.890451|31.40439759| 28.8469908|15.97008152|15.42443139| 28.7143215|26.22842771|35.67825923|30.49115342|24.15124891|28.55255307|27.70120802|25.36237265|23.63108943|22.43980121|22.82394719|21.90855608|19.44369027|19.07648878|19.81768422|18.95416379|23.30202251|null|null|null|null|\n",
            "|           Argentina|         ARG|2.367473032|2.442615898|2.522392105|2.316356332|2.538379303|2.641714344|2.792653799|2.858162297| 2.96985458|3.275850995|3.451159798|3.650078618|3.637858513|3.730791118|3.726698966|3.641822498|3.768774074|3.749871394|3.762750369|3.998733119|3.868853067|3.574967863|3.567086789|3.572042094|3.560142534| 3.31032707|   3.377245|3.669168725|3.820445568|3.629201904|3.426481983| 3.52770381|3.605749117|3.457164549|3.542095019|3.656645582|3.811457285|3.851202695|3.857870916|4.010698763|3.835573665|3.568599866|3.291547735| 3.52558427| 4.06905838|4.141236814|4.434821452|4.382668884|4.682912395|4.410889894|4.558499612|4.600290699|4.569383676|4.462903755|4.746797455|null|null|null|null|\n",
            "|             Armenia|         ARM|       null|       null|       null|       null|       null|       null|       null|       null|       null|       null|       null|       null|       null|       null|       null|       null|       null|       null|       null|       null|       null|       null|       null|       null|       null|       null|       null|       null|       null|       null|       null|       null|1.692473009|0.759983503|0.824155363| 1.05997746|0.809046419|1.032302975|1.081692124|0.975803629|1.128918604|1.161167684|1.003201493|1.136138307|1.214751524|1.460030477|1.481177962|1.726570171|1.911537642|1.509411878|1.465621895|1.710070765|1.976060074|1.899711734| 1.90275891|null|null|null|null|\n",
            "|      American Samoa|         ASM|       null|       null|       null|       null|       null|       null|       null|       null|       null|       null|       null|       null|       null|       null|       null|       null|       null|       null|       null|       null|       null|       null|       null|       null|       null|       null|       null|       null|       null|       null|       null|       null|       null|       null|       null|       null|       null|       null|       null|       null|       null|       null|       null|       null|       null|       null|       null|       null|       null|       null|       null|       null|       null|       null|       null|null|null|null|null|\n",
            "| Antigua and Barbuda|         ATG|0.662642982|0.849084497|1.796794064|1.446821285|1.540135072|2.473585495|5.613448493|8.912847222|15.31343284|19.08331058|6.886077081|6.238223734|5.406990864|4.710273171|6.053204097|9.883268863|5.580272532| 6.39051801|6.701462004|5.535809488| 1.94729174| 1.45543755|4.049249117|1.177305658|2.073948392|3.573357026| 3.62388641|4.053725403|4.265352382|4.292944302| 4.23352225|3.977164337|3.858476917| 3.87997941|3.732497664|3.735788316|3.878986619|3.962335507|3.995303753|4.033068153|4.123971095| 4.09566526|4.293313704|4.620874526|4.778147909|4.806998084|4.913644367|5.136472571|5.194500314|5.446757355|5.539567509|5.363407474|5.418446532|5.360453467|5.377648546|null|null|null|null|\n",
            "|           Australia|         AUS|8.582936643|8.641569017|8.835688047|9.226439909|9.759073431|10.62232139|10.32809244| 10.9556248|11.21016771|11.60055435|11.80289054|11.80911757|11.95163155|12.77968685|12.55966873|12.65989981|12.41679178|13.23189614|14.06985862|14.12909198|15.02491601|15.43250084|15.42493181|14.64008413| 15.2209753| 15.3084102|14.98057315| 15.7469578|15.79616778|16.51986292|15.45288167|15.12796621|15.31776851| 15.7014518|15.57658628|15.59651881|16.50180039|16.51427321|16.93569585|17.19029769|17.20060983|16.73336743|17.37045177|16.90195895|17.02651535|17.16971145|17.65139831|17.86526004|18.16087566|18.20018196|17.74084505|17.53887776|17.07290468|16.09583317|15.38876602|null|null|null|null|\n",
            "|             Austria|         AUT|4.373318828|4.496361641|4.755361673|5.155193747|5.391003988|5.252196533|5.361724683|5.417736727|5.711110104|6.006325178|6.788807307|6.953651912|7.448516814|7.930866985|7.562697278|7.176844855|7.721250012|7.428063284|7.601371804|8.158846402|   6.928479|7.416160614|7.112124941|6.874373273|7.214278667|7.230766353|7.144304852|7.623419815|7.032030698|7.102448997|7.513246156|7.944096184|7.226236428|7.223017309|7.189264701|7.521516107|7.938008299|7.863667996|7.981004261|7.741130615|7.774259739|8.192769898|8.299115796|8.889562334|8.858363703|9.020169598|8.727297872|8.406418936|8.295095978|7.518751102|8.071131802|7.748134305|7.387077163|7.368748145| 6.86986793|null|null|null|null|\n",
            "|          Azerbaijan|         AZE|       null|       null|       null|       null|       null|       null|       null|       null|       null|       null|       null|       null|       null|       null|       null|       null|       null|       null|       null|       null|       null|       null|       null|       null|       null|       null|       null|       null|       null|       null|       null|       null| 7.61863709|6.464585857|5.525358563|4.337414444|4.026472755|3.803022741| 4.00297561|3.579835395|3.666271029|3.547105484|3.623944346|3.718169927|3.863229639|4.091801927|4.616299863|  3.5553401|4.051383481|3.565668218|3.388225879|3.646179877| 3.82487717|3.785068836|3.931560609|null|null|null|null|\n",
            "|             Burundi|         BDI|       null|       null|0.015206992|0.016160066|0.015833023| 0.01191406| 0.01512058|0.014740464|0.016586591|0.021623037|0.018039962| 0.02092206|0.020693856|0.020494678|0.025334488|0.020974295|0.023533697|0.025910488|0.026234565|0.027411289|0.035629468|0.037336898|0.036387481|0.046159711|0.048130813|0.049131807|0.048473582|0.049993825|0.044267124|0.050698823|0.038597042|0.043008469|0.038217221|0.039393228|0.039969978|0.039978645|0.040062492|0.040797127|0.040307438|0.040297088|0.042395011|0.031323575|0.031548442|0.023205146|0.027569697|0.020747407|0.024365963|0.023555045|0.023219419|0.022462399|0.024260032| 0.02676196|0.030296973| 0.03017577|0.044485376|null|null|null|null|\n",
            "|             Belgium|         BEL|9.941594074|10.10387199|10.64118963|11.38692874|11.05365472|11.14165555|11.04201943|11.21725675|12.32568713|12.81544961|13.01017881|12.56342518|13.47269526| 14.2554864|13.83696555| 12.4583039|13.24167979|12.87543872|13.80705794|14.23923382|13.72329627|12.57955507|11.92668478|10.31207942|10.69696639|10.59744025|10.43154171|10.44717278|10.13514385|10.81351494|10.63967167|11.09099988|11.14648251|10.67503455| 11.1051094|11.08115205|11.62383425|11.32885202|11.60191455|11.17302675| 11.2296677|11.13371551| 10.3854951|10.88211417|10.66129022|10.35539299|  10.151039|9.744777191|9.751984809|9.249615685|10.17146522|9.054330011| 8.56287875|8.689543091|8.328159898|null|null|null|null|\n",
            "|               Benin|         BEN|0.066354063| 0.05204863|0.054208805|0.047588561|0.055303533|0.057114995|0.042382648|0.052284076|0.055170709|0.070750258|0.096952622|0.098556326|0.127712648|0.122481633|0.127701408|0.135891142|0.077784148|0.086510056|0.103019122|0.101339606|0.139097135|0.112310111|0.125105341|0.112552906|0.120856597|0.173986403|0.155688061|0.118857275|0.118496584|0.130855167|0.142157591|0.159512217|0.168501162|0.205206743|0.221397671|0.224780453|0.207591276|0.193809928|0.187593089|0.234411619|0.232860969|0.256497596|0.285000234|0.313037269|0.323642156|0.299985405|0.471267009|0.531738987|0.507237393|0.521063185|0.553283259|0.559693354|0.562347006|0.580960914|0.614213852|null|null|null|null|\n",
            "|        Burkina Faso|         BFA|0.009111902|0.018729901|0.017003116|0.017504203|0.021575284|0.019841271|0.019533659|0.019216851|0.018894962|0.021889868|0.025426341|0.026268913|0.027698405|0.028443214|0.033998445| 0.03574919|0.033314914| 0.03896836|0.053341702| 0.06100989| 0.06342019|0.079795452|0.080427283| 0.08092381|0.061836945|0.061686819|0.060571874|0.063518718|0.066263378|0.095737173|0.066173051|0.069287423|0.067840845|  0.0656434|0.065745043|0.062147134|0.068229866|0.075639822|0.078563833| 0.08255275|0.089716851|0.083504269|0.081733493|0.085194017|0.084705971|0.083875344|0.098375847|0.115526282|0.130556622|0.127633338|0.125717252|0.137496219|0.158663009|0.179132409|0.162018806|null|null|null|null|\n",
            "|          Bangladesh|         BGD|       null|       null|       null|       null|       null|       null|       null|       null|       null|       null|       null|       null|0.051914946|0.066302743|0.066692361| 0.06829413|0.076304643|0.077572579|0.078115625|0.083903855|0.093755743|0.094739619|0.099981186|0.093233483|0.100553935|0.109813432|0.119727919|0.120625234|0.134150581| 0.12986798|0.146281294|0.146609266|0.159575353|0.153104602|0.163272688|0.192205167|0.198152233|0.202365814|0.190182468| 0.19558517|0.211802225|0.242020016|0.246756218| 0.25660216|0.266823041|0.275246594|0.299529173|0.301630726|0.332727819|0.357158767|0.393936699|0.412011186|0.433487963|0.442400828|0.459141965|null|null|null|null|\n",
            "|            Bulgaria|         BGR|2.833901121|3.269920074|3.835891818|4.259780927|5.262987916|5.645651942|5.905436715|6.638369161|7.112214403|7.869932816|7.213424372|7.532552676|7.715656701|7.983550221|8.210958036|8.377877479|8.347946173|8.628766462|9.236529547|8.968132006|8.744238667| 9.03643153|10.10727531|10.10833662|9.749961471|9.992783476|10.21729994|  10.214134|9.718843491|9.771261867| 8.54301079|6.666757565|6.347137362| 8.00979638|6.414520789|6.900326395|6.763241038|6.209849583|5.934325293|5.356718076|5.328034342|5.800066474|5.695266947|6.084370085|6.064891808|6.256282044|6.445333272|6.925435282|6.772087541|5.731193724|5.964900206| 6.71538056|6.119456526|5.450695963|5.871615869|null|null|null|null|\n",
            "+--------------------+------------+-----------+-----------+-----------+-----------+-----------+-----------+-----------+-----------+-----------+-----------+-----------+-----------+-----------+-----------+-----------+-----------+-----------+-----------+-----------+-----------+-----------+-----------+-----------+-----------+-----------+-----------+-----------+-----------+-----------+-----------+-----------+-----------+-----------+-----------+-----------+-----------+-----------+-----------+-----------+-----------+-----------+-----------+-----------+-----------+-----------+-----------+-----------+-----------+-----------+-----------+-----------+-----------+-----------+-----------+-----------+----+----+----+----+\n",
            "only showing top 20 rows\n",
            "\n"
          ]
        }
      ]
    },
    {
      "cell_type": "markdown",
      "source": [
        "Reshaping Data From Wide to Long"
      ],
      "metadata": {
        "id": "RdDsg6H-W_aJ"
      }
    },
    {
      "cell_type": "code",
      "source": [
        "\n",
        "def melt(\n",
        "        df: DataFrame,\n",
        "        id_vars: Iterable[str], value_vars: Iterable[str],\n",
        "        var_name: str=\"variable\", value_name: str=\"value\") -> DataFrame:\n",
        "    \"\"\"Convert :class:`DataFrame` from wide to long format.\"\"\"\n",
        "\n",
        "    # Create array<struct<variable: str, value: ...>>\n",
        "    _vars_and_vals = array(*(\n",
        "        struct(lit(c).alias(var_name), col(c).alias(value_name))\n",
        "        for c in value_vars))\n",
        "\n",
        "    # Add to the DataFrame and explode\n",
        "    _tmp = df.withColumn(\"_vars_and_vals\", explode(_vars_and_vals))\n",
        "\n",
        "    cols = id_vars + [\n",
        "            col(\"_vars_and_vals\")[x].alias(x) for x in [var_name, value_name]]\n",
        "    return _tmp.select(*cols)"
      ],
      "metadata": {
        "id": "7LPTqy8zJfRU"
      },
      "execution_count": null,
      "outputs": []
    },
    {
      "cell_type": "code",
      "source": [
        "melt(df2, id_vars=['Country'],\n",
        "            value_vars=['1960', '1961', '1962', '1963', '1964', '1965', '1966', '1967', '1968', '1969',\n",
        "                        '1970', '1971', '1972', '1973', '1974', '1975', '1976', '1977', '1978', '1979',\n",
        "                        '1980', '1981', '1982', '1983', '1984', '1985', '1986', '1987', '1988', '1989',\n",
        "                        '1990', '1991', '1992', '1993', '1994', '1995', '1996', '1997', '1998', '1999',\n",
        "                        '2000', '2001', '2002', '2003', '2004', '2005', '2006', '2007', '2008', '2009',\n",
        "                        '2010', '2011', '2012', '2013', '2014', '2015', '2016', '2017', '2018']).show()"
      ],
      "metadata": {
        "id": "Qc1ZhkkyLmPl",
        "colab": {
          "base_uri": "https://localhost:8080/"
        },
        "outputId": "bbdc2394-850a-4e85-b2cd-59d87e730c66"
      },
      "execution_count": null,
      "outputs": [
        {
          "output_type": "stream",
          "name": "stdout",
          "text": [
            "+-------+--------+-----+\n",
            "|Country|variable|value|\n",
            "+-------+--------+-----+\n",
            "|  Aruba|    1960| null|\n",
            "|  Aruba|    1961| null|\n",
            "|  Aruba|    1962| null|\n",
            "|  Aruba|    1963| null|\n",
            "|  Aruba|    1964| null|\n",
            "|  Aruba|    1965| null|\n",
            "|  Aruba|    1966| null|\n",
            "|  Aruba|    1967| null|\n",
            "|  Aruba|    1968| null|\n",
            "|  Aruba|    1969| null|\n",
            "|  Aruba|    1970| null|\n",
            "|  Aruba|    1971| null|\n",
            "|  Aruba|    1972| null|\n",
            "|  Aruba|    1973| null|\n",
            "|  Aruba|    1974| null|\n",
            "|  Aruba|    1975| null|\n",
            "|  Aruba|    1976| null|\n",
            "|  Aruba|    1977| null|\n",
            "|  Aruba|    1978| null|\n",
            "|  Aruba|    1979| null|\n",
            "+-------+--------+-----+\n",
            "only showing top 20 rows\n",
            "\n"
          ]
        }
      ]
    },
    {
      "cell_type": "code",
      "source": [
        "long_df2 = melt(df2, id_vars=['Country'],\n",
        "            value_vars=['1960', '1961', '1962', '1963', '1964', '1965', '1966', '1967', '1968', '1969',\n",
        "                        '1970', '1971', '1972', '1973', '1974', '1975', '1976', '1977', '1978', '1979',\n",
        "                        '1980', '1981', '1982', '1983', '1984', '1985', '1986', '1987', '1988', '1989',\n",
        "                        '1990', '1991', '1992', '1993', '1994', '1995', '1996', '1997', '1998', '1999',\n",
        "                        '2000', '2001', '2002', '2003', '2004', '2005', '2006', '2007', '2008', '2009',\n",
        "                        '2010', '2011', '2012', '2013', '2014', '2015', '2016', '2017', '2018'])"
      ],
      "metadata": {
        "id": "zadfwFFCXMwf"
      },
      "execution_count": null,
      "outputs": []
    },
    {
      "cell_type": "code",
      "source": [
        "long_df2.where(df2.Country == 'Afghanistan').show()"
      ],
      "metadata": {
        "colab": {
          "base_uri": "https://localhost:8080/"
        },
        "id": "R4Q7udpAXNQN",
        "outputId": "2e6f3c15-77b9-4586-97f9-539661212eef"
      },
      "execution_count": null,
      "outputs": [
        {
          "output_type": "stream",
          "name": "stdout",
          "text": [
            "+-----------+--------+-----------+\n",
            "|    Country|variable|      value|\n",
            "+-----------+--------+-----------+\n",
            "|Afghanistan|    1960|0.046059897|\n",
            "|Afghanistan|    1961|0.053604304|\n",
            "|Afghanistan|    1962|0.073764791|\n",
            "|Afghanistan|    1963|0.074232685|\n",
            "|Afghanistan|    1964|0.086292452|\n",
            "|Afghanistan|    1965|0.101467397|\n",
            "|Afghanistan|    1966|0.107636955|\n",
            "|Afghanistan|    1967|0.123734289|\n",
            "|Afghanistan|    1968| 0.11549774|\n",
            "|Afghanistan|    1969| 0.08682346|\n",
            "|Afghanistan|    1970|0.150290627|\n",
            "|Afghanistan|    1971|0.166042044|\n",
            "|Afghanistan|    1972| 0.13076385|\n",
            "|Afghanistan|    1973|0.136279785|\n",
            "|Afghanistan|    1974|0.155649444|\n",
            "|Afghanistan|    1975|0.168928649|\n",
            "|Afghanistan|    1976|0.154787206|\n",
            "|Afghanistan|    1977|0.182963616|\n",
            "|Afghanistan|    1978|0.163159571|\n",
            "|Afghanistan|    1979|0.168376671|\n",
            "+-----------+--------+-----------+\n",
            "only showing top 20 rows\n",
            "\n"
          ]
        }
      ]
    },
    {
      "cell_type": "code",
      "source": [
        "long_df2 = long_df2.withColumnRenamed('variable','Year')"
      ],
      "metadata": {
        "id": "cFyZ2yYNXRju"
      },
      "execution_count": null,
      "outputs": []
    },
    {
      "cell_type": "code",
      "source": [
        " long_df2 = long_df2.withColumnRenamed('value', 'CO2')"
      ],
      "metadata": {
        "id": "_D1eJmkYXSC5"
      },
      "execution_count": null,
      "outputs": []
    },
    {
      "cell_type": "code",
      "source": [
        "long_df2.where(df2.Country == 'Afghanistan').show()"
      ],
      "metadata": {
        "colab": {
          "base_uri": "https://localhost:8080/"
        },
        "id": "T2lOoNO_XT0d",
        "outputId": "75c4a2a7-3709-480d-d7df-145afc7791a5"
      },
      "execution_count": null,
      "outputs": [
        {
          "output_type": "stream",
          "name": "stdout",
          "text": [
            "+-----------+----+-----------+\n",
            "|    Country|Year|        CO2|\n",
            "+-----------+----+-----------+\n",
            "|Afghanistan|1960|0.046059897|\n",
            "|Afghanistan|1961|0.053604304|\n",
            "|Afghanistan|1962|0.073764791|\n",
            "|Afghanistan|1963|0.074232685|\n",
            "|Afghanistan|1964|0.086292452|\n",
            "|Afghanistan|1965|0.101467397|\n",
            "|Afghanistan|1966|0.107636955|\n",
            "|Afghanistan|1967|0.123734289|\n",
            "|Afghanistan|1968| 0.11549774|\n",
            "|Afghanistan|1969| 0.08682346|\n",
            "|Afghanistan|1970|0.150290627|\n",
            "|Afghanistan|1971|0.166042044|\n",
            "|Afghanistan|1972| 0.13076385|\n",
            "|Afghanistan|1973|0.136279785|\n",
            "|Afghanistan|1974|0.155649444|\n",
            "|Afghanistan|1975|0.168928649|\n",
            "|Afghanistan|1976|0.154787206|\n",
            "|Afghanistan|1977|0.182963616|\n",
            "|Afghanistan|1978|0.163159571|\n",
            "|Afghanistan|1979|0.168376671|\n",
            "+-----------+----+-----------+\n",
            "only showing top 20 rows\n",
            "\n"
          ]
        }
      ]
    },
    {
      "cell_type": "code",
      "source": [
        "print((long_df2.count(), len(long_df2.columns)))\n",
        "long_df2_1 = long_df2.filter(long_df2.CO2.isNotNull())\n",
        "print((long_df2_1.count(), len(long_df2_1.columns)))\n",
        "long_df2_1.show()"
      ],
      "metadata": {
        "colab": {
          "base_uri": "https://localhost:8080/"
        },
        "id": "-ixxD6Z2Y-WO",
        "outputId": "c3cc25d7-449d-4b37-a143-34612d8f40e7"
      },
      "execution_count": null,
      "outputs": [
        {
          "output_type": "stream",
          "name": "stdout",
          "text": [
            "(15576, 3)\n",
            "(12249, 3)\n",
            "+-------+----+-----------+\n",
            "|Country|Year|        CO2|\n",
            "+-------+----+-----------+\n",
            "|  Aruba|1986|2.868319392|\n",
            "|  Aruba|1987|7.235198033|\n",
            "|  Aruba|1988|10.02617921|\n",
            "|  Aruba|1989| 10.6347326|\n",
            "|  Aruba|1990|26.37450321|\n",
            "|  Aruba|1991| 26.0461298|\n",
            "|  Aruba|1992| 21.4425588|\n",
            "|  Aruba|1993|22.00078616|\n",
            "|  Aruba|1994|21.03624511|\n",
            "|  Aruba|1995|20.77193616|\n",
            "|  Aruba|1996|20.31835337|\n",
            "|  Aruba|1997|20.42681771|\n",
            "|  Aruba|1998|20.58766915|\n",
            "|  Aruba|1999|20.31156677|\n",
            "|  Aruba|2000|26.19487524|\n",
            "|  Aruba|2001|25.93402441|\n",
            "|  Aruba|2002|25.67116178|\n",
            "|  Aruba|2003|26.42045209|\n",
            "|  Aruba|2004|26.51729342|\n",
            "|  Aruba|2005|27.20070778|\n",
            "+-------+----+-----------+\n",
            "only showing top 20 rows\n",
            "\n"
          ]
        }
      ]
    },
    {
      "cell_type": "code",
      "source": [
        "long_df2_1.describe().show()"
      ],
      "metadata": {
        "colab": {
          "base_uri": "https://localhost:8080/"
        },
        "id": "plHDZuFGZOlP",
        "outputId": "aa09fa6b-9d33-40cc-8a57-ed5863669f22"
      },
      "execution_count": null,
      "outputs": [
        {
          "output_type": "stream",
          "name": "stdout",
          "text": [
            "+-------+-----------+------------------+-----------------+\n",
            "|summary|    Country|              Year|              CO2|\n",
            "+-------+-----------+------------------+-----------------+\n",
            "|  count|      12249|             12249|            12249|\n",
            "|   mean|       null| 1988.365091027839|4.215330745598858|\n",
            "| stddev|       null|15.877200914933532|6.913356573485818|\n",
            "|    min|Afghanistan|              1960|     -0.020100465|\n",
            "|    max|   Zimbabwe|              2014|      99.46300047|\n",
            "+-------+-----------+------------------+-----------------+\n",
            "\n"
          ]
        }
      ]
    },
    {
      "cell_type": "code",
      "source": [
        "# Prep tempreture data for merging\n"
      ],
      "metadata": {
        "id": "SeWo-j4pXXZ0"
      },
      "execution_count": null,
      "outputs": []
    },
    {
      "cell_type": "code",
      "source": [
        "df1.show()"
      ],
      "metadata": {
        "colab": {
          "base_uri": "https://localhost:8080/"
        },
        "id": "TWETAz-4XX7r",
        "outputId": "cebdbfeb-9086-45cc-8c24-a3dd9c155c22"
      },
      "execution_count": null,
      "outputs": [
        {
          "output_type": "stream",
          "name": "stdout",
          "text": [
            "+----------+-------------------+-----------------------------+-------+\n",
            "|        dt| AverageTemperature|AverageTemperatureUncertainty|Country|\n",
            "+----------+-------------------+-----------------------------+-------+\n",
            "|1743-11-01| 4.3839999999999995|                        2.294|  Åland|\n",
            "|1743-12-01|               null|                         null|  Åland|\n",
            "|1744-01-01|               null|                         null|  Åland|\n",
            "|1744-02-01|               null|                         null|  Åland|\n",
            "|1744-03-01|               null|                         null|  Åland|\n",
            "|1744-04-01|               1.53|                         4.68|  Åland|\n",
            "|1744-05-01|  6.702000000000001|                        1.789|  Åland|\n",
            "|1744-06-01| 11.609000000000002|                        1.577|  Åland|\n",
            "|1744-07-01|             15.342|                         1.41|  Åland|\n",
            "|1744-08-01|               null|                         null|  Åland|\n",
            "|1744-09-01|             11.702|                        1.517|  Åland|\n",
            "|1744-10-01|              5.477|                        1.862|  Åland|\n",
            "|1744-11-01|              3.407|                        1.425|  Åland|\n",
            "|1744-12-01|             -2.181|                        1.641|  Åland|\n",
            "|1745-01-01|              -3.85|                        1.841|  Åland|\n",
            "|1745-02-01| -6.574999999999998|                         1.36|  Åland|\n",
            "|1745-03-01|             -4.195|                        1.213|  Åland|\n",
            "|1745-04-01|-0.9660000000000002|                        1.172|  Åland|\n",
            "|1745-05-01|               null|                         null|  Åland|\n",
            "|1745-06-01|               null|                         null|  Åland|\n",
            "+----------+-------------------+-----------------------------+-------+\n",
            "only showing top 20 rows\n",
            "\n"
          ]
        }
      ]
    },
    {
      "cell_type": "code",
      "source": [
        "df1.withColumn('Year', year(df1['dt'])).show()"
      ],
      "metadata": {
        "colab": {
          "base_uri": "https://localhost:8080/"
        },
        "id": "ATFny4oTXb77",
        "outputId": "039badec-31cc-4d5a-887d-165319d67d2c"
      },
      "execution_count": null,
      "outputs": [
        {
          "output_type": "stream",
          "name": "stdout",
          "text": [
            "+----------+-------------------+-----------------------------+-------+----+\n",
            "|        dt| AverageTemperature|AverageTemperatureUncertainty|Country|Year|\n",
            "+----------+-------------------+-----------------------------+-------+----+\n",
            "|1743-11-01| 4.3839999999999995|                        2.294|  Åland|1743|\n",
            "|1743-12-01|               null|                         null|  Åland|1743|\n",
            "|1744-01-01|               null|                         null|  Åland|1744|\n",
            "|1744-02-01|               null|                         null|  Åland|1744|\n",
            "|1744-03-01|               null|                         null|  Åland|1744|\n",
            "|1744-04-01|               1.53|                         4.68|  Åland|1744|\n",
            "|1744-05-01|  6.702000000000001|                        1.789|  Åland|1744|\n",
            "|1744-06-01| 11.609000000000002|                        1.577|  Åland|1744|\n",
            "|1744-07-01|             15.342|                         1.41|  Åland|1744|\n",
            "|1744-08-01|               null|                         null|  Åland|1744|\n",
            "|1744-09-01|             11.702|                        1.517|  Åland|1744|\n",
            "|1744-10-01|              5.477|                        1.862|  Åland|1744|\n",
            "|1744-11-01|              3.407|                        1.425|  Åland|1744|\n",
            "|1744-12-01|             -2.181|                        1.641|  Åland|1744|\n",
            "|1745-01-01|              -3.85|                        1.841|  Åland|1745|\n",
            "|1745-02-01| -6.574999999999998|                         1.36|  Åland|1745|\n",
            "|1745-03-01|             -4.195|                        1.213|  Åland|1745|\n",
            "|1745-04-01|-0.9660000000000002|                        1.172|  Åland|1745|\n",
            "|1745-05-01|               null|                         null|  Åland|1745|\n",
            "|1745-06-01|               null|                         null|  Åland|1745|\n",
            "+----------+-------------------+-----------------------------+-------+----+\n",
            "only showing top 20 rows\n",
            "\n"
          ]
        }
      ]
    },
    {
      "cell_type": "code",
      "source": [
        "df1.withColumn('Year', year(df1['dt'])).show()"
      ],
      "metadata": {
        "colab": {
          "base_uri": "https://localhost:8080/"
        },
        "id": "hmdzdDmzXPfy",
        "outputId": "748462e8-abd5-4207-ff5f-734569e9f4b9"
      },
      "execution_count": null,
      "outputs": [
        {
          "output_type": "stream",
          "name": "stdout",
          "text": [
            "+----------+-------------------+-----------------------------+-------+----+\n",
            "|        dt| AverageTemperature|AverageTemperatureUncertainty|Country|Year|\n",
            "+----------+-------------------+-----------------------------+-------+----+\n",
            "|1743-11-01| 4.3839999999999995|                        2.294|  Åland|1743|\n",
            "|1743-12-01|               null|                         null|  Åland|1743|\n",
            "|1744-01-01|               null|                         null|  Åland|1744|\n",
            "|1744-02-01|               null|                         null|  Åland|1744|\n",
            "|1744-03-01|               null|                         null|  Åland|1744|\n",
            "|1744-04-01|               1.53|                         4.68|  Åland|1744|\n",
            "|1744-05-01|  6.702000000000001|                        1.789|  Åland|1744|\n",
            "|1744-06-01| 11.609000000000002|                        1.577|  Åland|1744|\n",
            "|1744-07-01|             15.342|                         1.41|  Åland|1744|\n",
            "|1744-08-01|               null|                         null|  Åland|1744|\n",
            "|1744-09-01|             11.702|                        1.517|  Åland|1744|\n",
            "|1744-10-01|              5.477|                        1.862|  Åland|1744|\n",
            "|1744-11-01|              3.407|                        1.425|  Åland|1744|\n",
            "|1744-12-01|             -2.181|                        1.641|  Åland|1744|\n",
            "|1745-01-01|              -3.85|                        1.841|  Åland|1745|\n",
            "|1745-02-01| -6.574999999999998|                         1.36|  Åland|1745|\n",
            "|1745-03-01|             -4.195|                        1.213|  Åland|1745|\n",
            "|1745-04-01|-0.9660000000000002|                        1.172|  Åland|1745|\n",
            "|1745-05-01|               null|                         null|  Åland|1745|\n",
            "|1745-06-01|               null|                         null|  Åland|1745|\n",
            "+----------+-------------------+-----------------------------+-------+----+\n",
            "only showing top 20 rows\n",
            "\n"
          ]
        }
      ]
    },
    {
      "cell_type": "code",
      "source": [
        "df1_1 = df1.withColumn('Year', year(df1['dt']))"
      ],
      "metadata": {
        "id": "04juFAArXhAd"
      },
      "execution_count": null,
      "outputs": []
    },
    {
      "cell_type": "code",
      "source": [
        "print((df1_1.count(), len(df1_1.columns)))\n",
        "df1_1 = df1_1.filter(df1_1.AverageTemperature.isNotNull())\n",
        "print((df1_1.count(), len(df1_1.columns)))"
      ],
      "metadata": {
        "colab": {
          "base_uri": "https://localhost:8080/"
        },
        "id": "QpwRCDWzYFNF",
        "outputId": "82f6797a-bbfa-49aa-b40d-1ea15cae121a"
      },
      "execution_count": null,
      "outputs": [
        {
          "output_type": "stream",
          "name": "stdout",
          "text": [
            "(577462, 5)\n",
            "(544811, 5)\n"
          ]
        }
      ]
    },
    {
      "cell_type": "code",
      "source": [
        "df1_1.show()"
      ],
      "metadata": {
        "colab": {
          "base_uri": "https://localhost:8080/"
        },
        "id": "bjw8naFlYwTa",
        "outputId": "4266416e-81df-43c8-e170-fc6498cbf25f"
      },
      "execution_count": null,
      "outputs": [
        {
          "output_type": "stream",
          "name": "stdout",
          "text": [
            "+----------+-------------------+-----------------------------+-------+----+\n",
            "|        dt| AverageTemperature|AverageTemperatureUncertainty|Country|Year|\n",
            "+----------+-------------------+-----------------------------+-------+----+\n",
            "|1743-11-01| 4.3839999999999995|                        2.294|  Åland|1743|\n",
            "|1744-04-01|               1.53|                         4.68|  Åland|1744|\n",
            "|1744-05-01|  6.702000000000001|                        1.789|  Åland|1744|\n",
            "|1744-06-01| 11.609000000000002|                        1.577|  Åland|1744|\n",
            "|1744-07-01|             15.342|                         1.41|  Åland|1744|\n",
            "|1744-09-01|             11.702|                        1.517|  Åland|1744|\n",
            "|1744-10-01|              5.477|                        1.862|  Åland|1744|\n",
            "|1744-11-01|              3.407|                        1.425|  Åland|1744|\n",
            "|1744-12-01|             -2.181|                        1.641|  Åland|1744|\n",
            "|1745-01-01|              -3.85|                        1.841|  Åland|1745|\n",
            "|1745-02-01| -6.574999999999998|                         1.36|  Åland|1745|\n",
            "|1745-03-01|             -4.195|                        1.213|  Åland|1745|\n",
            "|1745-04-01|-0.9660000000000002|                        1.172|  Åland|1745|\n",
            "|1750-01-01| 1.0910000000000006|                        1.119|  Åland|1750|\n",
            "|1750-02-01| 0.8090000000000002|                        3.353|  Åland|1750|\n",
            "|1750-03-01| 0.9229999999999999|                        4.716|  Åland|1750|\n",
            "|1750-04-01|              3.943|           1.4340000000000002|  Åland|1750|\n",
            "|1750-05-01| 6.2650000000000015|                        1.339|  Åland|1750|\n",
            "|1750-06-01|             12.408|                        1.204|  Åland|1750|\n",
            "|1750-07-01|             16.683|           1.1840000000000002|  Åland|1750|\n",
            "+----------+-------------------+-----------------------------+-------+----+\n",
            "only showing top 20 rows\n",
            "\n"
          ]
        }
      ]
    },
    {
      "cell_type": "code",
      "source": [
        "df1_1 = df1_1.groupBy('Country', 'Year').agg({'AverageTemperature': 'avg'})"
      ],
      "metadata": {
        "id": "i0zHPT2lXjmR"
      },
      "execution_count": null,
      "outputs": []
    },
    {
      "cell_type": "code",
      "source": [
        "df1_1.show()"
      ],
      "metadata": {
        "colab": {
          "base_uri": "https://localhost:8080/"
        },
        "id": "Ne9kGLAFYge8",
        "outputId": "44b06ccd-6be1-4a30-a64a-bf6a1db3b600"
      },
      "execution_count": null,
      "outputs": [
        {
          "output_type": "stream",
          "name": "stdout",
          "text": [
            "+-------------------+----+-----------------------+\n",
            "|            Country|Year|avg(AverageTemperature)|\n",
            "+-------------------+----+-----------------------+\n",
            "|            Albania|1821|     12.237166666666667|\n",
            "|            Albania|1943|     13.197250000000002|\n",
            "|            Albania|1960|     13.335083333333332|\n",
            "|            Andorra|1867|     11.277666666666667|\n",
            "|            Andorra|1970|     11.376583333333334|\n",
            "|             Angola|1926|     21.922666666666668|\n",
            "|             Angola|1942|     21.892083333333332|\n",
            "|             Angola|1979|               22.14475|\n",
            "|             Angola|1987|     22.749916666666664|\n",
            "|           Anguilla|1931|     26.970833333333335|\n",
            "|           Anguilla|1998|      27.74083333333333|\n",
            "|Antigua And Barbuda|1866|      26.05416666666667|\n",
            "|Antigua And Barbuda|1875|                25.9395|\n",
            "|          Argentina|2010|     15.078833333333336|\n",
            "|              Aruba|1913|                27.3515|\n",
            "|          Australia|1868|      21.44758333333333|\n",
            "|            Austria|1941|      5.272833333333334|\n",
            "|         Azerbaijan|2012|               13.08675|\n",
            "|            Bahamas|1865|     25.074416666666664|\n",
            "|            Bahamas|1930|     25.139166666666668|\n",
            "+-------------------+----+-----------------------+\n",
            "only showing top 20 rows\n",
            "\n"
          ]
        }
      ]
    },
    {
      "cell_type": "markdown",
      "source": [
        "### Merging two datasets (by Country & Year)"
      ],
      "metadata": {
        "id": "8erpYxCmauId"
      }
    },
    {
      "cell_type": "code",
      "source": [
        "df_merged = long_df2_1.join(df1_1, (long_df2_1[\"Country\"] == df1_1[\"Country\"]) &\n",
        "   (long_df2_1[\"Year\"] == df1_1[\"Year\"]))\n",
        "df_merged.show()"
      ],
      "metadata": {
        "colab": {
          "base_uri": "https://localhost:8080/"
        },
        "id": "bJclG3iyXo20",
        "outputId": "e59cddd6-e987-423c-c0ae-09d07c65b17a"
      },
      "execution_count": null,
      "outputs": [
        {
          "output_type": "stream",
          "name": "stdout",
          "text": [
            "+------------------+----+-----------+------------------+----+-----------------------+\n",
            "|           Country|Year|        CO2|           Country|Year|avg(AverageTemperature)|\n",
            "+------------------+----+-----------+------------------+----+-----------------------+\n",
            "|           Albania|1960|1.258194928|           Albania|1960|     13.335083333333332|\n",
            "|            Angola|1979|0.636944237|            Angola|1979|               22.14475|\n",
            "|            Angola|1987|  0.5184278|            Angola|1987|     22.749916666666664|\n",
            "|         Argentina|2010|4.558499612|         Argentina|2010|     15.078833333333336|\n",
            "|        Azerbaijan|2012| 3.82487717|        Azerbaijan|2012|               13.08675|\n",
            "|        Bangladesh|1987|0.120625234|        Bangladesh|1987|     25.642416666666666|\n",
            "|          Botswana|1990|  1.9613582|          Botswana|1990|     22.944833333333335|\n",
            "|            Brazil|1997|1.793828678|            Brazil|1997|     25.559416666666667|\n",
            "|              Cuba|1969|2.015669739|              Cuba|1969|     25.657833333333333|\n",
            "|              Cuba|2009|2.641408453|              Cuba|2009|     26.022333333333325|\n",
            "|            Cyprus|1999|6.886143297|            Cyprus|1999|               20.07375|\n",
            "|          Dominica|1981|0.486500829|          Dominica|1981|     26.686333333333334|\n",
            "|Dominican Republic|1962|0.353028929|Dominican Republic|1962|     25.740333333333336|\n",
            "|           Ecuador|1960|0.388033791|           Ecuador|1960|                21.8235|\n",
            "|       El Salvador|1975|0.508381505|       El Salvador|1975|     24.992250000000002|\n",
            "| Equatorial Guinea|1995|0.254213453| Equatorial Guinea|1995|     25.614583333333332|\n",
            "|     Faroe Islands|2006|14.02135047|     Faroe Islands|2006|                 7.8785|\n",
            "|             Gabon|1961|0.327302263|             Gabon|1961|     24.196416666666664|\n",
            "|             Haiti|2012|0.224883835|             Haiti|2012|     27.045083333333338|\n",
            "|          Honduras|1999|0.745833911|          Honduras|1999|     25.218833333333336|\n",
            "+------------------+----+-----------+------------------+----+-----------------------+\n",
            "only showing top 20 rows\n",
            "\n"
          ]
        }
      ]
    },
    {
      "cell_type": "code",
      "source": [
        "df_merged.describe().show()"
      ],
      "metadata": {
        "colab": {
          "base_uri": "https://localhost:8080/"
        },
        "id": "8qR0RGLFamKC",
        "outputId": "2de4c018-a081-4e54-c04e-204b607ce98d"
      },
      "execution_count": null,
      "outputs": [
        {
          "output_type": "stream",
          "name": "stdout",
          "text": [
            "+-------+-----------+------------------+-----------------+-----------+------------------+-----------------------+\n",
            "|summary|    Country|              Year|              CO2|    Country|              Year|avg(AverageTemperature)|\n",
            "+-------+-----------+------------------+-----------------+-----------+------------------+-----------------------+\n",
            "|  count|       7844|              7844|             7844|       7844|              7844|                   7844|\n",
            "|   mean|       null|1987.7497450280468|4.625203378869329|       null|1987.7497450280468|     19.577945866267207|\n",
            "| stddev|       null|15.578953121957158|7.723208722989336|       null|15.578953121957158|      9.042534487332055|\n",
            "|    min|Afghanistan|              1960|     -0.020100465|Afghanistan|              1960|     -20.44683333333333|\n",
            "|    max|   Zimbabwe|              2013|      99.46300047|   Zimbabwe|              2013|     30.744749999999996|\n",
            "+-------+-----------+------------------+-----------------+-----------+------------------+-----------------------+\n",
            "\n"
          ]
        }
      ]
    },
    {
      "cell_type": "markdown",
      "source": [
        "### Correlation between CO2 emissions and temperature change\n"
      ],
      "metadata": {
        "id": "Cj09Uo6OfMQq"
      }
    },
    {
      "cell_type": "code",
      "source": [
        "df_merged = df_merged.withColumn(\"CO2\", col(\"CO2\").cast(FloatType()))"
      ],
      "metadata": {
        "id": "fZdcsmeDgIsX"
      },
      "execution_count": null,
      "outputs": []
    },
    {
      "cell_type": "code",
      "source": [
        "df_merged.stat.corr(\"CO2\", \"avg(AverageTemperature)\")"
      ],
      "metadata": {
        "colab": {
          "base_uri": "https://localhost:8080/"
        },
        "id": "S_7UlNvugnFo",
        "outputId": "024bbe35-3718-4886-96f7-02ab6f2d375d"
      },
      "execution_count": null,
      "outputs": [
        {
          "output_type": "execute_result",
          "data": {
            "text/plain": [
              "-0.2344769651324569"
            ]
          },
          "metadata": {},
          "execution_count": 108
        }
      ]
    }
  ],
  "metadata": {
    "colab": {
      "provenance": []
    },
    "kernelspec": {
      "display_name": "Python 3",
      "name": "python3"
    },
    "language_info": {
      "name": "python"
    }
  },
  "nbformat": 4,
  "nbformat_minor": 0
}